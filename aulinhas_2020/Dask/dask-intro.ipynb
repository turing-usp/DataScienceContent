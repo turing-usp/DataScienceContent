{
 "cells": [
  {
   "cell_type": "markdown",
   "metadata": {},
   "source": [
    "# Dask\n",
    "## Paralelização\n",
    "Os processadores dos nossos computadores, possuem mais de uma unidade de processamento. Essas unidades são chamadas, usualmente, de cores.\n",
    "<img src=\"https://phoenixnap.com/kb/wp-content/uploads/2019/02/core-threads-283x300.jpg\" width=\"300px\"/>\n",
    "Quando usamos pandas ou numpy, todo o processamento que fazemos é feito apenas em um core. <br>\n",
    "Muitas vezes, isso é o suficiente, mas quando o volume de dados cresce, pode ser que aqueles cores poderiam dar uma mãozinha extra.\n",
    "<img src=\"https://i.redd.it/9tu18n684z331.jpg\" width=\"300px\"/>\n",
    "Nem toda tarefa é passível de paralelização, por exemplo, operações que necessitam recorrência temporal. Mas, para muitos casos, ao manipular Dataframes, a paralelização é perfeitamente possível. <br>\n",
    "O dask serve de forma a fazer isso de forma fácil e compatível com a sintaxe do Pandas, tornando a curva de aprendizado mais rápida. <br>\n",
    "Os casos de uso do dask são:\n",
    "- **Hight-level** - substituir NumPy e Pandas de uma forma paralelizada, possibilitando operar com maiores volumes de dados\n",
    "- **Low-level** - Schedulers, que podem substituir bibliotecas de threading or multiprocessing (similar a `Luigi` ou `Airflow`)\n",
    "\n",
    "Principal uso:\n",
    "- Paralelizar `Pandas`, `NumPy`e `Sklearn`"
   ]
  },
  {
   "cell_type": "markdown",
   "metadata": {},
   "source": [
    "## Caso geral com `dask.delayed`"
   ]
  },
  {
   "cell_type": "code",
   "execution_count": 1,
   "metadata": {},
   "outputs": [],
   "source": [
    "from dask.distributed import Client\n",
    "\n",
    "client = Client(n_workers=4)"
   ]
  },
  {
   "cell_type": "code",
   "execution_count": 2,
   "metadata": {},
   "outputs": [],
   "source": [
    "from time import sleep\n",
    "\n",
    "def inc(x):\n",
    "    sleep(1)\n",
    "    return x + 1\n",
    "\n",
    "def add(x, y):\n",
    "    sleep(1)\n",
    "    return x + y"
   ]
  },
  {
   "cell_type": "code",
   "execution_count": 3,
   "metadata": {},
   "outputs": [
    {
     "name": "stdout",
     "output_type": "stream",
     "text": [
      "CPU times: user 233 ms, sys: 62 ms, total: 295 ms\n",
      "Wall time: 3 s\n"
     ]
    }
   ],
   "source": [
    "%%time\n",
    "\n",
    "x = inc(1)\n",
    "y = inc(2)\n",
    "z = add(x, y)"
   ]
  },
  {
   "cell_type": "code",
   "execution_count": 4,
   "metadata": {},
   "outputs": [],
   "source": [
    "from dask import delayed\n",
    "x = delayed(inc)(1)\n",
    "y = delayed(inc)(2)\n",
    "z = delayed(add)(x, y)"
   ]
  },
  {
   "cell_type": "markdown",
   "metadata": {},
   "source": [
    "Nesse passo anterior, não calculamos nada, apenas definimos o grafo."
   ]
  },
  {
   "cell_type": "code",
   "execution_count": 5,
   "metadata": {},
   "outputs": [
    {
     "data": {
      "image/png": "[encoded data removed]",
      "text/plain": [
       "<IPython.core.display.Image object>"
      ]
     },
     "execution_count": 5,
     "metadata": {},
     "output_type": "execute_result"
    }
   ],
   "source": [
    "z.visualize()"
   ]
  },
  {
   "cell_type": "code",
   "execution_count": 6,
   "metadata": {},
   "outputs": [
    {
     "name": "stdout",
     "output_type": "stream",
     "text": [
      "CPU times: user 182 ms, sys: 33.7 ms, total: 215 ms\n",
      "Wall time: 2.03 s\n"
     ]
    },
    {
     "data": {
      "text/plain": [
       "5"
      ]
     },
     "execution_count": 6,
     "metadata": {},
     "output_type": "execute_result"
    }
   ],
   "source": [
    "%%time\n",
    "z.compute()"
   ]
  },
  {
   "cell_type": "markdown",
   "metadata": {},
   "source": [
    "Outro exemplo..."
   ]
  },
  {
   "cell_type": "code",
   "execution_count": 7,
   "metadata": {},
   "outputs": [],
   "source": [
    "data = [1, 2, 3, 4, 5, 6, 7, 8]"
   ]
  },
  {
   "cell_type": "markdown",
   "metadata": {},
   "source": [
    "Sequencial"
   ]
  },
  {
   "cell_type": "code",
   "execution_count": 8,
   "metadata": {},
   "outputs": [
    {
     "name": "stdout",
     "output_type": "stream",
     "text": [
      "CPU times: user 526 ms, sys: 114 ms, total: 640 ms\n",
      "Wall time: 8.01 s\n"
     ]
    }
   ],
   "source": [
    "%%time\n",
    "results = []\n",
    "for x in data:\n",
    "    y = inc(x)\n",
    "    results.append(y)\n",
    "    \n",
    "total = sum(results)"
   ]
  },
  {
   "cell_type": "code",
   "execution_count": 10,
   "metadata": {},
   "outputs": [
    {
     "name": "stdout",
     "output_type": "stream",
     "text": [
      "CPU times: user 159 ms, sys: 40.8 ms, total: 200 ms\n",
      "Wall time: 2.03 s\n"
     ]
    },
    {
     "data": {
      "text/plain": [
       "44"
      ]
     },
     "execution_count": 10,
     "metadata": {},
     "output_type": "execute_result"
    }
   ],
   "source": [
    "%%time\n",
    "results = []\n",
    "for x in data:\n",
    "    y = delayed(inc)(x)\n",
    "    results.append(y)\n",
    "total = delayed(sum)(results)\n",
    "\n",
    "total.compute()"
   ]
  },
  {
   "cell_type": "markdown",
   "metadata": {},
   "source": [
    "## Numpy"
   ]
  },
  {
   "cell_type": "markdown",
   "metadata": {},
   "source": [
    "<img src=\"https://docs.dask.org/en/latest/_images/dask-array-black-text.svg\"/>"
   ]
  },
  {
   "cell_type": "markdown",
   "metadata": {},
   "source": [
    "A implementação do dask **não** tem todas as funções do numpy, em especial as de algelin, do módulo `np.linalg`"
   ]
  },
  {
   "cell_type": "code",
   "execution_count": 12,
   "metadata": {},
   "outputs": [],
   "source": [
    "import numpy as np\n",
    "import dask.array as da\n",
    "\n",
    "x = da.random.normal(10, 0.1, size=(20000, 20000),   # 400 million element array \n",
    "                              chunks=(1000, 1000))   # Cut into 1000x1000 sized chunks\n",
    "y = x.mean(axis=0)[::100]"
   ]
  },
  {
   "cell_type": "code",
   "execution_count": 13,
   "metadata": {},
   "outputs": [
    {
     "data": {
      "text/plain": [
       "3.2"
      ]
     },
     "execution_count": 13,
     "metadata": {},
     "output_type": "execute_result"
    }
   ],
   "source": [
    "x.nbytes / 1e9"
   ]
  },
  {
   "cell_type": "code",
   "execution_count": 14,
   "metadata": {},
   "outputs": [
    {
     "name": "stdout",
     "output_type": "stream",
     "text": [
      "CPU times: user 1.16 s, sys: 1.71 ms, total: 1.17 s\n",
      "Wall time: 5.31 s\n"
     ]
    },
    {
     "data": {
      "text/plain": [
       "array([10.00079705,  9.9991088 ,  9.9993088 ,  9.99810212,  9.99973912,\n",
       "       10.00111224,  9.99942555, 10.00149671,  9.99975035,  9.9994341 ,\n",
       "        9.99999166, 10.00032371,  9.99995854,  9.99937508, 10.00116641,\n",
       "       10.00108964, 10.00073964,  9.99973717,  9.99953248,  9.9985482 ,\n",
       "        9.99942199,  9.99809683, 10.00009757, 10.00052981, 10.0009276 ,\n",
       "        9.99981387,  9.99995838, 10.00107348,  9.99983618, 10.00043241,\n",
       "       10.00054955, 10.0004399 ,  9.99921703, 10.00083546,  9.99948155,\n",
       "       10.00065258,  9.99983598,  9.99954136, 10.00115858,  9.99947672,\n",
       "        9.99982209,  9.99979677,  9.99968547, 10.00007109,  9.99991484,\n",
       "        9.99994218, 10.00054611, 10.00086194,  9.99920711, 10.00087801,\n",
       "        9.99990676, 10.00043997,  9.99992816, 10.00122802,  9.99996398,\n",
       "       10.00008517, 10.00085072,  9.99894358, 10.00009046, 10.00079971,\n",
       "       10.00061104, 10.00057819, 10.00028019,  9.99946139,  9.9986413 ,\n",
       "        9.99922619, 10.00029051,  9.99963845, 10.00014774, 10.00078741,\n",
       "        9.99962842,  9.9994308 , 10.00124561, 10.00052796, 10.00075135,\n",
       "       10.00014857, 10.00010639, 10.00126721, 10.00035422,  9.99968186,\n",
       "        9.99954961, 10.00001421, 10.00019693,  9.99873109, 10.00039545,\n",
       "        9.99997961, 10.0007494 , 10.0005753 ,  9.99986163,  9.99900957,\n",
       "       10.00008445, 10.00041714, 10.00015944,  9.99993153, 10.00133547,\n",
       "        9.99955598, 10.00076906, 10.00103057, 10.00017059, 10.00010981,\n",
       "        9.9997601 , 10.0005335 , 10.00142018, 10.00020002,  9.99969204,\n",
       "        9.99941408, 10.00128958,  9.99942784, 10.00028974,  9.99973187,\n",
       "       10.00070771, 10.00031532, 10.00005825, 10.00069801,  9.99937508,\n",
       "       10.00052016,  9.99937927, 10.00118668,  9.9991896 , 10.00074345,\n",
       "       10.00031667, 10.00010249, 10.00115969, 10.00005099, 10.00022352,\n",
       "       10.00038543,  9.99739689,  9.99939084, 10.00042879, 10.0011934 ,\n",
       "       10.00062571, 10.00066659,  9.9998101 , 10.00066971, 10.00142583,\n",
       "        9.99963476,  9.99918835,  9.99986259,  9.99983985, 10.00005117,\n",
       "        9.99917301, 10.00031337, 10.00140926, 10.00016327,  9.99967673,\n",
       "        9.99953882,  9.9999321 ,  9.99940767, 10.00152686,  9.99979297,\n",
       "        9.9985555 ,  9.99991631,  9.99952827,  9.99959681, 10.00065434,\n",
       "        9.99971851, 10.00084471,  9.99979393, 10.00060867, 10.00027206,\n",
       "       10.00018632,  9.99964488,  9.99942103, 10.00019802,  9.99906334,\n",
       "       10.00019623,  9.99930814, 10.00094448, 10.00017299,  9.99909723,\n",
       "       10.00006098,  9.9995568 , 10.00028187,  9.99977277, 10.00040833,\n",
       "       10.0009105 , 10.00075493, 10.00040385,  9.99916788,  9.99962289,\n",
       "        9.99992117, 10.00017878,  9.99998852, 10.00094942,  9.99973497,\n",
       "        9.99942523,  9.99923159, 10.00093991,  9.99938901,  9.99988902,\n",
       "       10.0000162 , 10.00053921, 10.00100801,  9.99957461, 10.0015422 ,\n",
       "       10.00049958, 10.00013041, 10.00044697,  9.99962482,  9.99972211])"
      ]
     },
     "execution_count": 14,
     "metadata": {},
     "output_type": "execute_result"
    }
   ],
   "source": [
    "%%time\n",
    "y.compute()"
   ]
  },
  {
   "cell_type": "code",
   "execution_count": 15,
   "metadata": {},
   "outputs": [
    {
     "name": "stdout",
     "output_type": "stream",
     "text": [
      "CPU times: user 15.9 s, sys: 3.66 s, total: 19.5 s\n",
      "Wall time: 24.8 s\n"
     ]
    },
    {
     "data": {
      "text/plain": [
       "array([ 9.99974329, 10.00046117, 10.00144896, 10.00044527, 10.00025004,\n",
       "        9.99893373, 10.00065274, 10.00206822, 10.00033494,  9.99912414,\n",
       "        9.99993752,  9.99989046,  9.99969507,  9.99959777,  9.99921708,\n",
       "       10.00065665, 10.00075764,  9.99884207,  9.99875036,  9.99844512,\n",
       "        9.99968861, 10.00002372, 10.00062879, 10.00021626,  9.99963063,\n",
       "        9.99969367, 10.0000551 ,  9.99827883, 10.0002069 ,  9.99966662,\n",
       "       10.00012355, 10.00094934, 10.00043165, 10.00071006,  9.99955284,\n",
       "       10.00019957,  9.99848571,  9.99948792,  9.99919951, 10.00050605,\n",
       "        9.99980763,  9.99956992, 10.00054643,  9.99946931,  9.99824777,\n",
       "        9.99992938, 10.00066575, 10.00109949,  9.99954245, 10.00009661,\n",
       "       10.00094357, 10.00034869, 10.0001836 , 10.00015784,  9.99914319,\n",
       "        9.99997317,  9.99982879, 10.00087481,  9.99895788,  9.99958715,\n",
       "        9.99876183, 10.00026824,  9.99929677, 10.00000267, 10.00097517,\n",
       "        9.99959198,  9.99992664, 10.00033785, 10.00027133, 10.00050973,\n",
       "       10.00050718,  9.99970155,  9.99966474,  9.99890596, 10.00046108,\n",
       "       10.00073142, 10.00070988,  9.99854913, 10.00045585, 10.00081238,\n",
       "        9.99958028, 10.0003137 ,  9.99954683, 10.00076423,  9.99966989,\n",
       "       10.0008511 ,  9.99922194, 10.00222447,  9.99997962, 10.0003653 ,\n",
       "       10.00021063, 10.00026135,  9.99905693, 10.00111628, 10.00080704,\n",
       "        9.99996969, 10.00066246,  9.99987742,  9.99873894, 10.00029536,\n",
       "        9.99985013,  9.99918578, 10.00006604,  9.99875482,  9.99984217,\n",
       "        9.99844814,  9.99962866, 10.00124408,  9.99947127, 10.00054444,\n",
       "        9.99979089,  9.99914475,  9.99898257, 10.00041924, 10.00043387,\n",
       "       10.00073165, 10.00009485, 10.00027139, 10.00042252, 10.0018042 ,\n",
       "       10.00113945,  9.99973033,  9.99960754, 10.00045368,  9.99865957,\n",
       "       10.00105886, 10.00119795,  9.99988297,  9.99904978,  9.99960146,\n",
       "       10.00041127,  9.99989311,  9.99977678, 10.00165256, 10.00038062,\n",
       "        9.99989997, 10.00175468,  9.99860954,  9.99981475, 10.00170454,\n",
       "       10.00067734,  9.99859504,  9.99972108, 10.00030357, 10.00150003,\n",
       "        9.99939236, 10.0007622 ,  9.99919171,  9.99969276,  9.99972995,\n",
       "        9.99941419,  9.99868483, 10.00103021,  9.99897485,  9.99933323,\n",
       "        9.99891403,  9.9993623 ,  9.9996779 , 10.0000155 , 10.00036038,\n",
       "       10.00020949,  9.9990157 ,  9.99935722,  9.99877493,  9.99902814,\n",
       "       10.00083143,  9.99958403,  9.99997712, 10.00006128, 10.00031251,\n",
       "        9.99923144,  9.99994909, 10.00077064,  9.9999807 ,  9.99896572,\n",
       "        9.99998497,  9.99997354, 10.00015471, 10.00162476,  9.99955918,\n",
       "       10.00020094, 10.00078565, 10.00051245,  9.99924688,  9.99965218,\n",
       "       10.0004127 , 10.0016124 ,  9.99977605, 10.00028565, 10.00082464,\n",
       "        9.99928237,  9.99975136, 10.00001014, 10.00008608, 10.00044105,\n",
       "       10.0004285 ,  9.99958153, 10.0004066 , 10.00055969,  9.99809691])"
      ]
     },
     "execution_count": 15,
     "metadata": {},
     "output_type": "execute_result"
    }
   ],
   "source": [
    "%%time \n",
    "x = np.random.normal(10, 0.1, size=(20000, 20000)) \n",
    "y = x.mean(axis=0)[::100] \n",
    "y"
   ]
  },
  {
   "cell_type": "code",
   "execution_count": 18,
   "metadata": {},
   "outputs": [
    {
     "data": {
      "text/html": [
       "<table>\n",
       "<tr>\n",
       "<td>\n",
       "<table>\n",
       "  <thead>\n",
       "    <tr><td> </td><th> Array </th><th> Chunk </th></tr>\n",
       "  </thead>\n",
       "  <tbody>\n",
       "    <tr><th> Bytes </th><td> 400 B </td> <td> 40 B </td></tr>\n",
       "    <tr><th> Shape </th><td> (50,) </td> <td> (5,) </td></tr>\n",
       "    <tr><th> Count </th><td> 10 Tasks </td><td> 10 Chunks </td></tr>\n",
       "    <tr><th> Type </th><td> int64 </td><td> numpy.ndarray </td></tr>\n",
       "  </tbody>\n",
       "</table>\n",
       "</td>\n",
       "<td>\n",
       "<svg width=\"170\" height=\"79\" style=\"stroke:rgb(0,0,0);stroke-width:1\" >\n",
       "\n",
       "  <!-- Horizontal lines -->\n",
       "  <line x1=\"0\" y1=\"0\" x2=\"120\" y2=\"0\" style=\"stroke-width:2\" />\n",
       "  <line x1=\"0\" y1=\"29\" x2=\"120\" y2=\"29\" style=\"stroke-width:2\" />\n",
       "\n",
       "  <!-- Vertical lines -->\n",
       "  <line x1=\"0\" y1=\"0\" x2=\"0\" y2=\"29\" style=\"stroke-width:2\" />\n",
       "  <line x1=\"12\" y1=\"0\" x2=\"12\" y2=\"29\" />\n",
       "  <line x1=\"24\" y1=\"0\" x2=\"24\" y2=\"29\" />\n",
       "  <line x1=\"36\" y1=\"0\" x2=\"36\" y2=\"29\" />\n",
       "  <line x1=\"48\" y1=\"0\" x2=\"48\" y2=\"29\" />\n",
       "  <line x1=\"60\" y1=\"0\" x2=\"60\" y2=\"29\" />\n",
       "  <line x1=\"72\" y1=\"0\" x2=\"72\" y2=\"29\" />\n",
       "  <line x1=\"84\" y1=\"0\" x2=\"84\" y2=\"29\" />\n",
       "  <line x1=\"96\" y1=\"0\" x2=\"96\" y2=\"29\" />\n",
       "  <line x1=\"108\" y1=\"0\" x2=\"108\" y2=\"29\" />\n",
       "  <line x1=\"120\" y1=\"0\" x2=\"120\" y2=\"29\" style=\"stroke-width:2\" />\n",
       "\n",
       "  <!-- Colored Rectangle -->\n",
       "  <polygon points=\"0.0,0.0 120.0,0.0 120.0,29.030629010473877 0.0,29.030629010473877\" style=\"fill:#ECB172A0;stroke-width:0\"/>\n",
       "\n",
       "  <!-- Text -->\n",
       "  <text x=\"60.000000\" y=\"49.030629\" font-size=\"1.0rem\" font-weight=\"100\" text-anchor=\"middle\" >50</text>\n",
       "  <text x=\"140.000000\" y=\"14.515315\" font-size=\"1.0rem\" font-weight=\"100\" text-anchor=\"middle\" transform=\"rotate(0,140.000000,14.515315)\">1</text>\n",
       "</svg>\n",
       "</td>\n",
       "</tr>\n",
       "</table>"
      ],
      "text/plain": [
       "dask.array<arange, shape=(50,), dtype=int64, chunksize=(5,), chunktype=numpy.ndarray>"
      ]
     },
     "execution_count": 18,
     "metadata": {},
     "output_type": "execute_result"
    }
   ],
   "source": [
    "da.arange(50, chunks=5)"
   ]
  },
  {
   "cell_type": "code",
   "execution_count": 20,
   "metadata": {},
   "outputs": [
    {
     "data": {
      "text/plain": [
       "Ttest_relResult(statistic=-2.171307539961463, pvalue=0.034778899135427796)"
      ]
     },
     "execution_count": 20,
     "metadata": {},
     "output_type": "execute_result"
    }
   ],
   "source": [
    "from dask.array import stats\n",
    "a = da.random.uniform(size=(50,), chunks=(25,))\n",
    "b = a + da.random.uniform(low=-0.15, high=0.15, size=(50,), chunks=(25,))\n",
    "result = stats.ttest_rel(a, b)\n",
    "result.compute()"
   ]
  },
  {
   "cell_type": "markdown",
   "metadata": {},
   "source": [
    "## Pandas"
   ]
  },
  {
   "cell_type": "markdown",
   "metadata": {},
   "source": [
    "<img src=\"https://docs.dask.org/en/latest/_images/dask-dataframe.svg\" width=\"500px\"/>"
   ]
  },
  {
   "cell_type": "code",
   "execution_count": 21,
   "metadata": {},
   "outputs": [],
   "source": [
    "import dask.dataframe as dd"
   ]
  },
  {
   "cell_type": "code",
   "execution_count": 23,
   "metadata": {},
   "outputs": [],
   "source": [
    "df = dd.read_csv(\"MICRODADOS_ENEM_2019.csv\", encoding=\"latin-1\", sep=\";\")"
   ]
  },
  {
   "cell_type": "code",
   "execution_count": 24,
   "metadata": {},
   "outputs": [
    {
     "data": {
      "text/html": [
       "<div>\n",
       "<style scoped>\n",
       "    .dataframe tbody tr th:only-of-type {\n",
       "        vertical-align: middle;\n",
       "    }\n",
       "\n",
       "    .dataframe tbody tr th {\n",
       "        vertical-align: top;\n",
       "    }\n",
       "\n",
       "    .dataframe thead th {\n",
       "        text-align: right;\n",
       "    }\n",
       "</style>\n",
       "<table border=\"1\" class=\"dataframe\">\n",
       "  <thead>\n",
       "    <tr style=\"text-align: right;\">\n",
       "      <th></th>\n",
       "      <th>NU_INSCRICAO</th>\n",
       "      <th>NU_ANO</th>\n",
       "      <th>CO_MUNICIPIO_RESIDENCIA</th>\n",
       "      <th>NO_MUNICIPIO_RESIDENCIA</th>\n",
       "      <th>CO_UF_RESIDENCIA</th>\n",
       "      <th>SG_UF_RESIDENCIA</th>\n",
       "      <th>NU_IDADE</th>\n",
       "      <th>TP_SEXO</th>\n",
       "      <th>TP_ESTADO_CIVIL</th>\n",
       "      <th>TP_COR_RACA</th>\n",
       "      <th>...</th>\n",
       "      <th>Q016</th>\n",
       "      <th>Q017</th>\n",
       "      <th>Q018</th>\n",
       "      <th>Q019</th>\n",
       "      <th>Q020</th>\n",
       "      <th>Q021</th>\n",
       "      <th>Q022</th>\n",
       "      <th>Q023</th>\n",
       "      <th>Q024</th>\n",
       "      <th>Q025</th>\n",
       "    </tr>\n",
       "  </thead>\n",
       "  <tbody>\n",
       "    <tr>\n",
       "      <th>0</th>\n",
       "      <td>190001004627</td>\n",
       "      <td>2019</td>\n",
       "      <td>1506807</td>\n",
       "      <td>Santarém</td>\n",
       "      <td>15</td>\n",
       "      <td>PA</td>\n",
       "      <td>21</td>\n",
       "      <td>M</td>\n",
       "      <td>1</td>\n",
       "      <td>3</td>\n",
       "      <td>...</td>\n",
       "      <td>A</td>\n",
       "      <td>A</td>\n",
       "      <td>A</td>\n",
       "      <td>C</td>\n",
       "      <td>B</td>\n",
       "      <td>A</td>\n",
       "      <td>D</td>\n",
       "      <td>A</td>\n",
       "      <td>B</td>\n",
       "      <td>A</td>\n",
       "    </tr>\n",
       "    <tr>\n",
       "      <th>1</th>\n",
       "      <td>190001004628</td>\n",
       "      <td>2019</td>\n",
       "      <td>1504059</td>\n",
       "      <td>Mãe do Rio</td>\n",
       "      <td>15</td>\n",
       "      <td>PA</td>\n",
       "      <td>16</td>\n",
       "      <td>F</td>\n",
       "      <td>1</td>\n",
       "      <td>3</td>\n",
       "      <td>...</td>\n",
       "      <td>A</td>\n",
       "      <td>A</td>\n",
       "      <td>A</td>\n",
       "      <td>B</td>\n",
       "      <td>B</td>\n",
       "      <td>A</td>\n",
       "      <td>B</td>\n",
       "      <td>A</td>\n",
       "      <td>A</td>\n",
       "      <td>A</td>\n",
       "    </tr>\n",
       "    <tr>\n",
       "      <th>2</th>\n",
       "      <td>190001004629</td>\n",
       "      <td>2019</td>\n",
       "      <td>1505502</td>\n",
       "      <td>Paragominas</td>\n",
       "      <td>15</td>\n",
       "      <td>PA</td>\n",
       "      <td>18</td>\n",
       "      <td>F</td>\n",
       "      <td>1</td>\n",
       "      <td>1</td>\n",
       "      <td>...</td>\n",
       "      <td>B</td>\n",
       "      <td>A</td>\n",
       "      <td>A</td>\n",
       "      <td>D</td>\n",
       "      <td>B</td>\n",
       "      <td>B</td>\n",
       "      <td>D</td>\n",
       "      <td>A</td>\n",
       "      <td>C</td>\n",
       "      <td>B</td>\n",
       "    </tr>\n",
       "    <tr>\n",
       "      <th>3</th>\n",
       "      <td>190001004630</td>\n",
       "      <td>2019</td>\n",
       "      <td>1507706</td>\n",
       "      <td>São Sebastião da Boa Vista</td>\n",
       "      <td>15</td>\n",
       "      <td>PA</td>\n",
       "      <td>23</td>\n",
       "      <td>M</td>\n",
       "      <td>0</td>\n",
       "      <td>3</td>\n",
       "      <td>...</td>\n",
       "      <td>A</td>\n",
       "      <td>A</td>\n",
       "      <td>A</td>\n",
       "      <td>C</td>\n",
       "      <td>A</td>\n",
       "      <td>A</td>\n",
       "      <td>D</td>\n",
       "      <td>A</td>\n",
       "      <td>A</td>\n",
       "      <td>A</td>\n",
       "    </tr>\n",
       "    <tr>\n",
       "      <th>4</th>\n",
       "      <td>190001004631</td>\n",
       "      <td>2019</td>\n",
       "      <td>1503903</td>\n",
       "      <td>Juruti</td>\n",
       "      <td>15</td>\n",
       "      <td>PA</td>\n",
       "      <td>23</td>\n",
       "      <td>M</td>\n",
       "      <td>1</td>\n",
       "      <td>3</td>\n",
       "      <td>...</td>\n",
       "      <td>A</td>\n",
       "      <td>A</td>\n",
       "      <td>A</td>\n",
       "      <td>B</td>\n",
       "      <td>A</td>\n",
       "      <td>A</td>\n",
       "      <td>D</td>\n",
       "      <td>A</td>\n",
       "      <td>A</td>\n",
       "      <td>A</td>\n",
       "    </tr>\n",
       "  </tbody>\n",
       "</table>\n",
       "<p>5 rows × 136 columns</p>\n",
       "</div>"
      ],
      "text/plain": [
       "   NU_INSCRICAO  NU_ANO  CO_MUNICIPIO_RESIDENCIA     NO_MUNICIPIO_RESIDENCIA  \\\n",
       "0  190001004627    2019                  1506807                    Santarém   \n",
       "1  190001004628    2019                  1504059                  Mãe do Rio   \n",
       "2  190001004629    2019                  1505502                 Paragominas   \n",
       "3  190001004630    2019                  1507706  São Sebastião da Boa Vista   \n",
       "4  190001004631    2019                  1503903                      Juruti   \n",
       "\n",
       "   CO_UF_RESIDENCIA SG_UF_RESIDENCIA  NU_IDADE TP_SEXO  TP_ESTADO_CIVIL  \\\n",
       "0                15               PA        21       M                1   \n",
       "1                15               PA        16       F                1   \n",
       "2                15               PA        18       F                1   \n",
       "3                15               PA        23       M                0   \n",
       "4                15               PA        23       M                1   \n",
       "\n",
       "   TP_COR_RACA  ...  Q016  Q017 Q018  Q019 Q020  Q021  Q022  Q023  Q024  Q025  \n",
       "0            3  ...     A     A    A     C    B     A     D     A     B     A  \n",
       "1            3  ...     A     A    A     B    B     A     B     A     A     A  \n",
       "2            1  ...     B     A    A     D    B     B     D     A     C     B  \n",
       "3            3  ...     A     A    A     C    A     A     D     A     A     A  \n",
       "4            3  ...     A     A    A     B    A     A     D     A     A     A  \n",
       "\n",
       "[5 rows x 136 columns]"
      ]
     },
     "execution_count": 24,
     "metadata": {},
     "output_type": "execute_result"
    }
   ],
   "source": [
    "df.head()"
   ]
  },
  {
   "cell_type": "code",
   "execution_count": 29,
   "metadata": {},
   "outputs": [
    {
     "name": "stdout",
     "output_type": "stream",
     "text": [
      "NU_INSCRICAO\n",
      "NU_ANO\n",
      "CO_MUNICIPIO_RESIDENCIA\n",
      "NO_MUNICIPIO_RESIDENCIA\n",
      "CO_UF_RESIDENCIA\n",
      "SG_UF_RESIDENCIA\n",
      "NU_IDADE\n",
      "TP_SEXO\n",
      "TP_ESTADO_CIVIL\n",
      "TP_COR_RACA\n",
      "TP_NACIONALIDADE\n",
      "CO_MUNICIPIO_NASCIMENTO\n",
      "NO_MUNICIPIO_NASCIMENTO\n",
      "CO_UF_NASCIMENTO\n",
      "SG_UF_NASCIMENTO\n",
      "TP_ST_CONCLUSAO\n",
      "TP_ANO_CONCLUIU\n",
      "TP_ESCOLA\n",
      "TP_ENSINO\n",
      "IN_TREINEIRO\n",
      "CO_ESCOLA\n",
      "CO_MUNICIPIO_ESC\n",
      "NO_MUNICIPIO_ESC\n",
      "CO_UF_ESC\n",
      "SG_UF_ESC\n",
      "TP_DEPENDENCIA_ADM_ESC\n",
      "TP_LOCALIZACAO_ESC\n",
      "TP_SIT_FUNC_ESC\n",
      "IN_BAIXA_VISAO\n",
      "IN_CEGUEIRA\n",
      "IN_SURDEZ\n",
      "IN_DEFICIENCIA_AUDITIVA\n",
      "IN_SURDO_CEGUEIRA\n",
      "IN_DEFICIENCIA_FISICA\n",
      "IN_DEFICIENCIA_MENTAL\n",
      "IN_DEFICIT_ATENCAO\n",
      "IN_DISLEXIA\n",
      "IN_DISCALCULIA\n",
      "IN_AUTISMO\n",
      "IN_VISAO_MONOCULAR\n",
      "IN_OUTRA_DEF\n",
      "IN_GESTANTE\n",
      "IN_LACTANTE\n",
      "IN_IDOSO\n",
      "IN_ESTUDA_CLASSE_HOSPITALAR\n",
      "IN_SEM_RECURSO\n",
      "IN_BRAILLE\n",
      "IN_AMPLIADA_24\n",
      "IN_AMPLIADA_18\n",
      "IN_LEDOR\n",
      "IN_ACESSO\n",
      "IN_TRANSCRICAO\n",
      "IN_LIBRAS\n",
      "IN_TEMPO_ADICIONAL\n",
      "IN_LEITURA_LABIAL\n",
      "IN_MESA_CADEIRA_RODAS\n",
      "IN_MESA_CADEIRA_SEPARADA\n",
      "IN_APOIO_PERNA\n",
      "IN_GUIA_INTERPRETE\n",
      "IN_COMPUTADOR\n",
      "IN_CADEIRA_ESPECIAL\n",
      "IN_CADEIRA_CANHOTO\n",
      "IN_CADEIRA_ACOLCHOADA\n",
      "IN_PROVA_DEITADO\n",
      "IN_MOBILIARIO_OBESO\n",
      "IN_LAMINA_OVERLAY\n",
      "IN_PROTETOR_AURICULAR\n",
      "IN_MEDIDOR_GLICOSE\n",
      "IN_MAQUINA_BRAILE\n",
      "IN_SOROBAN\n",
      "IN_MARCA_PASSO\n",
      "IN_SONDA\n",
      "IN_MEDICAMENTOS\n",
      "IN_SALA_INDIVIDUAL\n",
      "IN_SALA_ESPECIAL\n",
      "IN_SALA_ACOMPANHANTE\n",
      "IN_MOBILIARIO_ESPECIFICO\n",
      "IN_MATERIAL_ESPECIFICO\n",
      "IN_NOME_SOCIAL\n",
      "CO_MUNICIPIO_PROVA\n",
      "NO_MUNICIPIO_PROVA\n",
      "CO_UF_PROVA\n",
      "SG_UF_PROVA\n",
      "TP_PRESENCA_CN\n",
      "TP_PRESENCA_CH\n",
      "TP_PRESENCA_LC\n",
      "TP_PRESENCA_MT\n",
      "CO_PROVA_CN\n",
      "CO_PROVA_CH\n",
      "CO_PROVA_LC\n",
      "CO_PROVA_MT\n",
      "NU_NOTA_CN\n",
      "NU_NOTA_CH\n",
      "NU_NOTA_LC\n",
      "NU_NOTA_MT\n",
      "TX_RESPOSTAS_CN\n",
      "TX_RESPOSTAS_CH\n",
      "TX_RESPOSTAS_LC\n",
      "TX_RESPOSTAS_MT\n",
      "TP_LINGUA\n",
      "TX_GABARITO_CN\n",
      "TX_GABARITO_CH\n",
      "TX_GABARITO_LC\n",
      "TX_GABARITO_MT\n",
      "TP_STATUS_REDACAO\n",
      "NU_NOTA_COMP1\n",
      "NU_NOTA_COMP2\n",
      "NU_NOTA_COMP3\n",
      "NU_NOTA_COMP4\n",
      "NU_NOTA_COMP5\n",
      "NU_NOTA_REDACAO\n",
      "Q001\n",
      "Q002\n",
      "Q003\n",
      "Q004\n",
      "Q005\n",
      "Q006\n",
      "Q007\n",
      "Q008\n",
      "Q009\n",
      "Q010\n",
      "Q011\n",
      "Q012\n",
      "Q013\n",
      "Q014\n",
      "Q015\n",
      "Q016\n",
      "Q017\n",
      "Q018\n",
      "Q019\n",
      "Q020\n",
      "Q021\n",
      "Q022\n",
      "Q023\n",
      "Q024\n",
      "Q025\n"
     ]
    }
   ],
   "source": [
    "for i in df.columns:\n",
    "    print(i)"
   ]
  },
  {
   "cell_type": "code",
   "execution_count": 26,
   "metadata": {},
   "outputs": [],
   "source": [
    "dfgp = df.groupby('TP_SEXO').max()"
   ]
  },
  {
   "cell_type": "markdown",
   "metadata": {},
   "source": [
    "https://docs.dask.org/en/latest/dataframe-api.html"
   ]
  },
  {
   "cell_type": "markdown",
   "metadata": {},
   "source": [
    "## Sklearn"
   ]
  },
  {
   "cell_type": "code",
   "execution_count": 30,
   "metadata": {},
   "outputs": [],
   "source": [
    "from sklearn.svm import SVC\n",
    "from sklearn.model_selection import GridSearchCV"
   ]
  },
  {
   "cell_type": "code",
   "execution_count": 32,
   "metadata": {},
   "outputs": [],
   "source": [
    "X = df[['NU_NOTA_REDACAO', 'NU_NOTA_CN', 'NU_NOTA_CH', 'NU_NOTA_LC', 'NU_NOTA_MT']]\n",
    "y = df['TP_ESCOLA']"
   ]
  },
  {
   "cell_type": "code",
   "execution_count": 33,
   "metadata": {},
   "outputs": [],
   "source": [
    "param_grid = {\"C\": [0.001, 0.01, 0.1, 0.5, 1.0, 2.0, 5.0, 10.0],\n",
    "              \"kernel\": ['rbf', 'poly', 'sigmoid'],\n",
    "              \"shrinking\": [True, False]}\n",
    "\n",
    "grid_search = GridSearchCV(SVC(gamma='auto', random_state=0, probability=True),\n",
    "                           param_grid=param_grid,\n",
    "                           return_train_score=False,\n",
    "                           iid=True,\n",
    "                           cv=3,\n",
    "                           n_jobs=-1)"
   ]
  },
  {
   "cell_type": "code",
   "execution_count": null,
   "metadata": {},
   "outputs": [],
   "source": [
    "import joblib\n",
    "\n",
    "with joblib.parallel_backend('dask'):\n",
    "    grid_search.fit(X, y)"
   ]
  }
 ],
 "metadata": {
  "kernelspec": {
   "display_name": "enem",
   "language": "python",
   "name": "enem"
  },
  "language_info": {
   "codemirror_mode": {
    "name": "ipython",
    "version": 3
   },
   "file_extension": ".py",
   "mimetype": "text/x-python",
   "name": "python",
   "nbconvert_exporter": "python",
   "pygments_lexer": "ipython3",
   "version": "3.6.5"
  }
 },
 "nbformat": 4,
 "nbformat_minor": 4
}
