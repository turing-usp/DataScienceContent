{
 "cells": [
  {
   "cell_type": "code",
   "execution_count": 1,
   "metadata": {},
   "outputs": [],
   "source": [
    "import numpy as np\n",
    "import matplotlib.pyplot as plt\n",
    "import matplotlib"
   ]
  },
  {
   "cell_type": "markdown",
   "metadata": {},
   "source": [
    "# SVD\n",
    "\n",
    "Singular Value Decomposition, em português, decomposição em valores singulares, é uma fatorização de matrizes muito útil para diversos problemas.\n",
    "\n",
    "Nessa decomposição, a matriz é decomposta como o produto de três matrizes.\n",
    "\n",
    "$$X = U \\Sigma V^T$$"
   ]
  },
  {
   "cell_type": "code",
   "execution_count": 2,
   "metadata": {},
   "outputs": [
    {
     "data": {
      "image/png": "[encoded data removed]",
      "text/plain": [
       "<Figure size 432x288 with 1 Axes>"
      ]
     },
     "metadata": {
      "needs_background": "light"
     },
     "output_type": "display_data"
    }
   ],
   "source": [
    "a = np.array([\n",
    "    [0,1],\n",
    "    [1,2],\n",
    "    [1.1,2.5],\n",
    "    [2.22,4],\n",
    "    [3.1,5.8]\n",
    "])\n",
    "plt.scatter(a[:,0],a[:,1]),\n",
    "plt.title(\"Valores Iniciais\")\n",
    "plt.show()"
   ]
  },
  {
   "cell_type": "code",
   "execution_count": 3,
   "metadata": {},
   "outputs": [],
   "source": [
    "u, s, vt = np.linalg.svd(a, full_matrices=True)"
   ]
  },
  {
   "cell_type": "code",
   "execution_count": 4,
   "metadata": {},
   "outputs": [
    {
     "data": {
      "text/plain": [
       "array([[-1.37325284e-16,  1.00000000e+00],\n",
       "       [ 1.00000000e+00,  2.00000000e+00],\n",
       "       [ 1.10000000e+00,  2.50000000e+00],\n",
       "       [ 2.22000000e+00,  4.00000000e+00],\n",
       "       [ 3.10000000e+00,  5.80000000e+00]])"
      ]
     },
     "execution_count": 4,
     "metadata": {},
     "output_type": "execute_result"
    }
   ],
   "source": [
    "(u[:,:2]*s)@vt"
   ]
  },
  {
   "cell_type": "markdown",
   "metadata": {},
   "source": [
    "## A matriz U e S"
   ]
  },
  {
   "cell_type": "markdown",
   "metadata": {},
   "source": [
    "Considerando: dim(A) = (n,m)\n",
    "\n",
    "A matriz U é uma matriz unitária (dim(U) = (n,n))(ela vezes sua transposta é a identidade). Ela contém \"dimensões constituintes\" dos dados. A matriz S ($\\Sigma$) (dim(S) = (n,m))é uma matriz diagonal que dá a importância para cada uma dessas dimensões da matriz U. Ela só contém valores não nulos na \"diagonal\", assim, as últimas n-m dimensões da matriz U não importam."
   ]
  },
  {
   "cell_type": "code",
   "execution_count": 5,
   "metadata": {},
   "outputs": [
    {
     "name": "stdout",
     "output_type": "stream",
     "text": [
      "Matriz U inteira: \n",
      " [[-0.100806    0.89563298 -0.41197495  0.13350942 -0.01147145]\n",
      " [-0.25417373  0.07356824  0.03915545 -0.62744692 -0.7312733 ]\n",
      " [-0.3098329   0.34961496  0.87179123  0.11838524  0.08796556]\n",
      " [-0.51991105 -0.23075702 -0.14097938  0.68295844 -0.4360462 ]\n",
      " [-0.74761617 -0.13019165 -0.22101664 -0.3286918   0.51694637]] \n",
      " \n",
      " Colunas de U com s != 0: \n",
      " [[-0.100806    0.89563298]\n",
      " [-0.25417373  0.07356824]\n",
      " [-0.3098329   0.34961496]\n",
      " [-0.51991105 -0.23075702]\n",
      " [-0.74761617 -0.13019165]] \n",
      " \n",
      " Matriz S: \n",
      " [[8.79613104 0.        ]\n",
      " [0.         0.51621584]]\n"
     ]
    }
   ],
   "source": [
    "print(f\"Matriz U inteira: \\n {u} \\n \\n Colunas de U com s != 0: \\n {u[:,:2]} \\n \\n Matriz S: \\n {np.diag(s)}\")"
   ]
  },
  {
   "cell_type": "markdown",
   "metadata": {},
   "source": [
    "Multiplicando U e S (ou $\\Sigma$), temos, assim, as dimensões \"escaladas\" por importância. Notamos que isso se trata de uma rotação aplicada nos nossos dados. "
   ]
  },
  {
   "cell_type": "code",
   "execution_count": 6,
   "metadata": {},
   "outputs": [],
   "source": [
    "p = u[:,:2]@np.diag(s)"
   ]
  },
  {
   "cell_type": "code",
   "execution_count": 7,
   "metadata": {},
   "outputs": [
    {
     "data": {
      "image/png": "[encoded data removed]",
      "text/plain": [
       "<Figure size 432x288 with 1 Axes>"
      ]
     },
     "metadata": {
      "needs_background": "light"
     },
     "output_type": "display_data"
    }
   ],
   "source": [
    "plt.scatter(a[:,0],a[:,1], color='r', label='A')\n",
    "plt.scatter(u[:,:2][:,0],u[:,:2][:,1], color='b', label='U')\n",
    "plt.scatter(p[:,0],p[:,1], color='g', label = 'U com escala s')\n",
    "plt.legend()\n",
    "plt.show()"
   ]
  },
  {
   "cell_type": "markdown",
   "metadata": {},
   "source": [
    "Por fim, a matriz $V^T$ nos dará o quanto precisamos rotacionar a rotação anterior para voltar aos pontos originais. Ou seja, podemos interpretá-la como \"qual é a mistura das componentes que compõem meus dados\"?\n",
    "\n",
    "Os valores de S também denotam a importância de cada uma dessas componentes. Nesse caso 8.79613104 para a vermelha e 0.51621584 para a verde"
   ]
  },
  {
   "cell_type": "code",
   "execution_count": 8,
   "metadata": {},
   "outputs": [
    {
     "data": {
      "text/plain": [
       "array([8.79613104, 0.51621584])"
      ]
     },
     "execution_count": 8,
     "metadata": {},
     "output_type": "execute_result"
    }
   ],
   "source": [
    "s"
   ]
  },
  {
   "cell_type": "code",
   "execution_count": 10,
   "metadata": {
    "scrolled": true
   },
   "outputs": [
    {
     "data": {
      "image/png": "[encoded data removed]",
      "text/plain": [
       "<Figure size 432x288 with 1 Axes>"
      ]
     },
     "metadata": {
      "needs_background": "light"
     },
     "output_type": "display_data"
    }
   ],
   "source": [
    "plt.scatter(a[:,0],a[:,1])\n",
    "origin = np.array([[1.5, 1.5],[3, 3]]) \n",
    "plt.quiver(*origin, vt[:,0], vt[:,1],color=['r','g'], scale_units='xy', scale=1)\n",
    "plt.show()"
   ]
  }
 ],
 "metadata": {
  "kernelspec": {
   "display_name": "enem",
   "language": "python",
   "name": "enem"
  },
  "language_info": {
   "codemirror_mode": {
    "name": "ipython",
    "version": 3
   },
   "file_extension": ".py",
   "mimetype": "text/x-python",
   "name": "python",
   "nbconvert_exporter": "python",
   "pygments_lexer": "ipython3",
   "version": "3.6.5"
  }
 },
 "nbformat": 4,
 "nbformat_minor": 4
}
