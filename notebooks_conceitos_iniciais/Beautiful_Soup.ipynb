{
 "cells": [
  {
   "cell_type": "markdown",
   "metadata": {},
   "source": [
    "<img src=\"https://www.politecnicos.com.br/img/075.jpg\" alt=\"Grupo Turing\" height=\"420\" width=\"420\">"
   ]
  },
  {
   "cell_type": "markdown",
   "metadata": {},
   "source": [
    "# Data Scrapping com Beautiful Soup - Exemplo Prático\n",
    "<img class=\"rg_i Q4LuWd tx8vtf\" src=\"data:image/jpeg;base64,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\" data-iurl=\"https://encrypted-tbn0.gstatic.com/images?q=tbn%3AANd9GcRS3gEEfLzrVSNYmRRhbF-5GEKa-IJ0P43vMXKyY2h11QJBhxOk\" jsname=\"Q4LuWd\" alt=\"Resultado de imagem para sopas\" data-iml=\"554.6150000000125\" data-atf=\"true\">\n",
    "\n",
    "Autor: Felipe Azank dos Santos"
   ]
  },
  {
   "cell_type": "markdown",
   "metadata": {},
   "source": [
    "Beatiful Soup é um pacote do Python usado especificamente para retirar dados da web ao desenvolver uma lógica entre os arquivos HTML, XML e Python. Essa biblioteca é umas das mais usadas para analisar e navegar em uma [árvore de análise](https://pt.wikipedia.org/wiki/%C3%81rvore_de_an%C3%A1lise_sint%C3%A1tica). \n",
    "\n",
    "Em resumo, utilizar o Beautiful Soup com o intuito de criar Data Frames ou documentos para análise de dados consiste, basicamente, nas seguintes etapas:\n",
    "\n",
    "* Instalar o pacote do Beautiful Soup e do pacote Requests (responsável por \"solicitar\" o código fonte de sites).\n",
    "\n",
    "\n",
    "* Encontrar o site que deseja explorar e fazer o seu Request.\n",
    "\n",
    "\n",
    "* Identificar os dados do site que te interessam.\n",
    "\n",
    "\n",
    "* Programar, utilizando as lógicas e funções presentes nesse notebook, o \"caminho\" necessário para encontrar os dados através do código fonte.\n",
    "\n",
    "\n",
    "* Juntar esses dados em um dicionário, DataFrame, lista, arquivo etc. "
   ]
  },
  {
   "cell_type": "markdown",
   "metadata": {},
   "source": [
    "## O objetivo - Top 100 Rotten Tomatoes\n",
    "\n",
    "<img alt=\"Resultado de imagem para rotten tomatoes&quot;\" class=\"n3VNCb\" src=\"https://cdn.olivre.com.br/wp-content/uploads/2019/02/rotten-tomatoes-logo1.jpg\" data-noaft=\"1\" jsname=\"HiaYvf\" jsaction=\"load:XAeZkd;\" style=\"width: 587px; height: 330.481px; margin: 0px;\">\n",
    "\n",
    "Veremos agora um caso real, nosso objetivo é pegar a lista dos [top 100 filmes de 2019](https://www.rottentomatoes.com/top/bestofrt/?year=2019) de acordo com o Rotten Tomatoes, pegar sua nota geral, título, sipnose e duração e colocar tudo em um Data Frame (que provavelmente será analisado em outro notebook). "
   ]
  },
  {
   "cell_type": "markdown",
   "metadata": {},
   "source": [
    "## 1 - Importando os pacotes necessários\n",
    "OBS: Lembre-se de instalar os pacotes caso não os tenha"
   ]
  },
  {
   "cell_type": "code",
   "execution_count": 1,
   "metadata": {},
   "outputs": [],
   "source": [
    "from bs4 import BeautifulSoup\n",
    "import requests"
   ]
  },
  {
   "cell_type": "markdown",
   "metadata": {},
   "source": [
    "## 2 - Encontrando o site e criando o Request"
   ]
  },
  {
   "cell_type": "code",
   "execution_count": 2,
   "metadata": {},
   "outputs": [],
   "source": [
    "link='https://www.rottentomatoes.com/top/bestofrt/?year=2019' \n",
    "\n",
    "source=requests.get(link).text #função para pegar o link e método 'text' para extrair o código fonte html"
   ]
  },
  {
   "cell_type": "code",
   "execution_count": 3,
   "metadata": {},
   "outputs": [],
   "source": [
    "#Aplicando a função que permite aplicarmos códigos de busca no código HTML\n",
    "soup=BeautifulSoup(source,'html.parser')"
   ]
  },
  {
   "cell_type": "markdown",
   "metadata": {},
   "source": [
    "## 3 - Explorando o site\n",
    "Agora, vamos ver o que podemos fazer usando as principais funções do Beautiful Soup. Mas antes, é preciso entender um pouco de como um código em HTML funciona, aqui estão alguns vídeos e textos caso você precise:\n",
    "\n",
    "* How HTML Works EDUCBA : https://www.educba.com/html-works/\n",
    "\n",
    "* Learn HTML in 12 Minutes : https://www.youtube.com/watch?v=bWPMSSsVdPk\n",
    "\n",
    "* Html-5-tutorial : https://www.html-5-tutorial.com/about-html.htm\n",
    "\n",
    "* Create a Webpage in 5 minutes : https://medium.com/@blondiebytes/create-a-webpage-in-5-minutes-1602b1f686ac"
   ]
  },
  {
   "cell_type": "markdown",
   "metadata": {},
   "source": [
    "## Find e Find_all\n",
    "Talvez as funções mais importantes do pacote, são descritas em detalhe, respectivamente, [aqui](https://www.crummy.com/software/BeautifulSoup/bs4/doc.ptbr/#find) e [aqui](https://www.crummy.com/software/BeautifulSoup/bs4/doc.ptbr/#find-all). Mas em geral, as funções buscam o conteúdo representado pelo \"tag\" que é inserido em forma de string. A diferença entre as duas funções consiste no fato de que, enquanto o `find()` mostra o primeiro conteúdo que possui essa \"tag\", o `find_all` busca em todo o HTML, fazendo uma lista com o que achar. Podemos, nessas funções, inserir a classe ou qualquer atributo desejado, com o objetivo de afunilar fortemente nossa busca. \n",
    "\n",
    "OBS: Também temos a função `findAll()` que pode ser usada, porém passando um dicionário dos atributos com os valores procurados. \n",
    "\n"
   ]
  },
  {
   "cell_type": "code",
   "execution_count": 4,
   "metadata": {},
   "outputs": [
    {
     "data": {
      "text/plain": [
       "<h2 class=\"title\">Movies in Theaters</h2>"
      ]
     },
     "execution_count": 4,
     "metadata": {},
     "output_type": "execute_result"
    }
   ],
   "source": [
    "#### PEGANDO O PRIMEIRO CONTEÚDO COM A TAG \"h2\" ####\n",
    "\n",
    "soup.find('h2')"
   ]
  },
  {
   "cell_type": "code",
   "execution_count": 5,
   "metadata": {},
   "outputs": [
    {
     "data": {
      "text/plain": [
       "[<h2 class=\"title\">Movies in Theaters</h2>,\n",
       " <h2 class=\"title\">On Dvd &amp; Streaming</h2>,\n",
       " <h2 class=\"title\">More</h2>,\n",
       " <h2 class=\"title\">Certified Fresh Picks</h2>,\n",
       " <h2 class=\"title\">New TV Tonight</h2>,\n",
       " <h2 class=\"title\">Most Popular TV on RT</h2>,\n",
       " <h2 class=\"title\">More</h2>,\n",
       " <h2 class=\"title\" style=\"margin-top: 20px\">Episodic Reviews</h2>,\n",
       " <h2 class=\"title\">Certified Fresh Pick</h2>,\n",
       " <h2 class=\"title\">Columns</h2>,\n",
       " <h2 class=\"title\">Best and Worst</h2>,\n",
       " <h2 class=\"title\">Guides</h2>,\n",
       " <h2 class=\"title\">RT News</h2>,\n",
       " <h2 class=\"panel-heading\">Top 100 Movies of 2019</h2>,\n",
       " <h2 class=\"panel-heading\">Today's Top Rated Movies</h2>,\n",
       " <h2><span class=\"glyphicon glyphicon-envelope\"></span>  JOIN THE NEWSLETTER</h2>,\n",
       " <h2>Follow Us</h2>]"
      ]
     },
     "execution_count": 5,
     "metadata": {},
     "output_type": "execute_result"
    }
   ],
   "source": [
    "#### PEGANDO TODOS OS CONTEÚDOS COM A TAG \"h2\" ####\n",
    "\n",
    "soup.find_all('h2')"
   ]
  },
  {
   "cell_type": "markdown",
   "metadata": {},
   "source": [
    "### Pegando o título da página\n",
    "Agora, ao ver o código acima, note que o título da página apresenta a classe \"Panel-Heading\". Tendo isso em vista, vamos usar a `find_all` e passar essa classe"
   ]
  },
  {
   "cell_type": "code",
   "execution_count": 6,
   "metadata": {},
   "outputs": [
    {
     "name": "stdout",
     "output_type": "stream",
     "text": [
      "Top 100 Movies of 2019\n"
     ]
    }
   ],
   "source": [
    "Página = soup.find_all('h2',class_=\"panel-heading\")[0].text\n",
    "print(Página)\n",
    "# Note que também passamos \"[0]\" pois o conteúdo é o primeiro da lista encontrada e \".text\" para\n",
    "# pegarmos apenas texto #"
   ]
  },
  {
   "cell_type": "markdown",
   "metadata": {},
   "source": [
    "## Selecionando a tabela de filmes\n",
    "Ao inspecionar a página, vemos que os filmes se encontram em uma tabela de classe \"table\", então portanto, acessamos essa parte do html, para facilitar nossa busca, uma vez que o resto do site não importa muito para os nossos objetivos. "
   ]
  },
  {
   "cell_type": "code",
   "execution_count": 7,
   "metadata": {},
   "outputs": [],
   "source": [
    "table = soup.find_all('table',class_='table')[0]"
   ]
  },
  {
   "cell_type": "markdown",
   "metadata": {},
   "source": [
    "## Isolando a lista de filmes\n",
    "Ao ver mais de perto, notamos que todos os filmes dentro da tabela estão na Tag \"tr\", portanto, criaremos a lista de filmes e usaremos o comando `for` para executar a mesma ação para todos os filmes. Contudo, vamos primeiro fazer os passos em apenas um filme para melhor entendimento."
   ]
  },
  {
   "cell_type": "code",
   "execution_count": 8,
   "metadata": {},
   "outputs": [],
   "source": [
    "filmes = table.find_all('tr')[1:]"
   ]
  },
  {
   "cell_type": "markdown",
   "metadata": {},
   "source": [
    "## Tirando dados de apenas um filme: Avengers Endgame\n",
    "\n",
    "<img class=\"rg_i Q4LuWd tx8vtf\" src=\"data:image/jpeg;base64,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\" data-iurl=\"https://encrypted-tbn0.gstatic.com/images?q=tbn%3AANd9GcSXCSocgZw85V6gpXc304H_-TB-ZOBGIo8l0YHhas9QtApJsTYv\" jsname=\"Q4LuWd\" alt=\"Resultado de imagem para avengers endgame\" data-iml=\"758.2949999996345\" data-atf=\"true\">"
   ]
  },
  {
   "cell_type": "code",
   "execution_count": 9,
   "metadata": {
    "scrolled": true
   },
   "outputs": [
    {
     "name": "stdout",
     "output_type": "stream",
     "text": [
      "<tr>\n",
      "<td class=\"bold\">1.</td>\n",
      "<td>\n",
      "<span class=\"tMeterIcon tiny\">\n",
      "<span class=\"icon tiny certified_fresh\"></span>\n",
      "<span class=\"tMeterScore\"> 94%</span>\n",
      "</span>\n",
      "</td>\n",
      "<td>\n",
      "<a class=\"unstyled articleLink\" href=\"/m/avengers_endgame\">\n",
      "            Avengers: Endgame (2019)</a>\n",
      "</td>\n",
      "<td class=\"right hidden-xs\">504</td>\n",
      "</tr>\n"
     ]
    }
   ],
   "source": [
    "vingadores=filmes[0] \n",
    "print(vingadores)"
   ]
  },
  {
   "cell_type": "markdown",
   "metadata": {},
   "source": [
    "## Extraindo a nota dada para o filme\n",
    "Vendo o código fonte acima, a nota está na tag 'span' classe \"tMeterScore\""
   ]
  },
  {
   "cell_type": "code",
   "execution_count": 10,
   "metadata": {},
   "outputs": [
    {
     "data": {
      "text/plain": [
       "'\\xa094%'"
      ]
     },
     "execution_count": 10,
     "metadata": {},
     "output_type": "execute_result"
    }
   ],
   "source": [
    "score=vingadores.find('span',class_='tMeterScore').text\n",
    "score"
   ]
  },
  {
   "cell_type": "code",
   "execution_count": 11,
   "metadata": {},
   "outputs": [
    {
     "name": "stdout",
     "output_type": "stream",
     "text": [
      "94\n"
     ]
    }
   ],
   "source": [
    "# REALIZANDO UMA MANIPULAÇÃO DE STRING PARA PEGAR APENAS OS NÚMEROS\n",
    "\n",
    "lista=[int(s) for s in score.split()[0] if s.isdigit()]\n",
    "score=lista[0]*10+lista[1]\n",
    "if score == 0:\n",
    "    score=100\n",
    "    \n",
    "print(score) "
   ]
  },
  {
   "cell_type": "markdown",
   "metadata": {},
   "source": [
    "### Extraindo o título"
   ]
  },
  {
   "cell_type": "code",
   "execution_count": 12,
   "metadata": {},
   "outputs": [
    {
     "data": {
      "text/plain": [
       "<a class=\"unstyled articleLink\" href=\"/m/avengers_endgame\">\n",
       "            Avengers: Endgame (2019)</a>"
      ]
     },
     "execution_count": 12,
     "metadata": {},
     "output_type": "execute_result"
    }
   ],
   "source": [
    "vingadores.a #inspecionando no site, o título se encontra na Tag 'a'"
   ]
  },
  {
   "cell_type": "code",
   "execution_count": 13,
   "metadata": {},
   "outputs": [
    {
     "data": {
      "text/plain": [
       "'\\n            Avengers: Endgame (2019)'"
      ]
     },
     "execution_count": 13,
     "metadata": {},
     "output_type": "execute_result"
    }
   ],
   "source": [
    "title=vingadores.a.text\n",
    "title"
   ]
  },
  {
   "cell_type": "code",
   "execution_count": 14,
   "metadata": {},
   "outputs": [],
   "source": [
    "title = title.strip() #método para retirar as marcas de parágrafo e texto"
   ]
  },
  {
   "cell_type": "code",
   "execution_count": 15,
   "metadata": {},
   "outputs": [
    {
     "data": {
      "text/plain": [
       "'Avengers: Endgame (2019)'"
      ]
     },
     "execution_count": 15,
     "metadata": {},
     "output_type": "execute_result"
    }
   ],
   "source": [
    "title "
   ]
  },
  {
   "cell_type": "markdown",
   "metadata": {},
   "source": [
    "## Extraindo o link da página do filme do Rotten Tomatoes \n",
    "Agora extrairemos o link do filme para automaticamente irmos de um link para outro extraindo informações, e quando aplicarmos esse método em todos os filmes, estaremos de fato \"Crawleando\" a internet :o"
   ]
  },
  {
   "cell_type": "code",
   "execution_count": 16,
   "metadata": {},
   "outputs": [
    {
     "data": {
      "text/plain": [
       "'/m/avengers_endgame'"
      ]
     },
     "execution_count": 16,
     "metadata": {},
     "output_type": "execute_result"
    }
   ],
   "source": [
    "href=vingadores.a['href']\n",
    "href"
   ]
  },
  {
   "cell_type": "markdown",
   "metadata": {},
   "source": [
    "## Montando o próximo request"
   ]
  },
  {
   "cell_type": "code",
   "execution_count": 17,
   "metadata": {},
   "outputs": [],
   "source": [
    "# MONTANDO O LINK QUE IREMOS USAR EM SEGUIDA\n",
    "vingadores_link='https://www.rottentomatoes.com'+href\n",
    "\n",
    "\n",
    "# FAZENDO O REQUEST\n",
    "source=requests.get(vingadores_link).text\n",
    "\n",
    "\n",
    "# MONTANDO NOSSA LINDA SOPA DE HTML(rs)\n",
    "soup2=BeautifulSoup(source,'html.parser')\n"
   ]
  },
  {
   "cell_type": "markdown",
   "metadata": {},
   "source": [
    "## Retirando a Sinopse do filme\n",
    "Nesse código, usaremos outro método de find, que procura o conteúdo ao inserir um dicionário contendo a classe como chave e o valor desejado como...... valor do dicionário. "
   ]
  },
  {
   "cell_type": "code",
   "execution_count": 18,
   "metadata": {},
   "outputs": [
    {
     "name": "stdout",
     "output_type": "stream",
     "text": [
      "The grave course of events set in motion by Thanos that wiped out half the universe and fractured the Avengers ranks compels the remaining Avengers to take one final stand in Marvel Studios' grand conclusion to twenty-two films, \"Avengers: Endgame.\"\n"
     ]
    }
   ],
   "source": [
    "Sinop = soup2.findAll(\"div\", {\"id\": \"movieSynopsis\"})[0].text #RETIRANDO O TEXTO DO LOCAL\n",
    "\n",
    "Sinop = Sinop.strip() #PARA NÃO DEIXAR COM MARCAS DE PARÁGRAFO E LINHA\n",
    "\n",
    "print(Sinop)"
   ]
  },
  {
   "cell_type": "markdown",
   "metadata": {},
   "source": [
    "## Extraindo o tempo de duração\n",
    "Nesse ponto, você já deve ter se familiarizado com o processo, que consiste em inspecionar o código do site, ver onde está a informação desejada, e inserir seu caminho com as funções do Beatiful Soup, quebrei o código abaixo como última revisão desse processo."
   ]
  },
  {
   "cell_type": "code",
   "execution_count": 19,
   "metadata": {},
   "outputs": [
    {
     "data": {
      "text/plain": [
       "[<time datetime=\"2019-04-25T17:00:00-07:00\">Apr 26, 2019</time>,\n",
       " <time datetime=\"2019-07-29T17:00:00-07:00\">Jul 30, 2019</time>,\n",
       " <time datetime=\"P182M\">\n",
       "                                 182 minutes\n",
       "                             </time>]"
      ]
     },
     "execution_count": 19,
     "metadata": {},
     "output_type": "execute_result"
    }
   ],
   "source": [
    "soup2.find_all('time') # vemos que é a última informação com Tag 'time'"
   ]
  },
  {
   "cell_type": "code",
   "execution_count": 20,
   "metadata": {},
   "outputs": [
    {
     "data": {
      "text/plain": [
       "<time datetime=\"P182M\">\n",
       "                                182 minutes\n",
       "                            </time>"
      ]
     },
     "execution_count": 20,
     "metadata": {},
     "output_type": "execute_result"
    }
   ],
   "source": [
    "soup2.find_all('time')[-1] # Pegamos justamente a última"
   ]
  },
  {
   "cell_type": "code",
   "execution_count": 21,
   "metadata": {},
   "outputs": [
    {
     "name": "stdout",
     "output_type": "stream",
     "text": [
      "\n",
      "                                182 minutes\n",
      "                            \n"
     ]
    }
   ],
   "source": [
    "duração = soup2.find_all('time')[-1].text # Extraimos apenas o texto\n",
    "print(duração)"
   ]
  },
  {
   "cell_type": "code",
   "execution_count": 22,
   "metadata": {},
   "outputs": [],
   "source": [
    "duração = duração.strip() # tiramos a marcação de linha e parágrafo"
   ]
  },
  {
   "cell_type": "code",
   "execution_count": 23,
   "metadata": {},
   "outputs": [
    {
     "name": "stdout",
     "output_type": "stream",
     "text": [
      "182 minutes\n"
     ]
    }
   ],
   "source": [
    "print(duração) "
   ]
  },
  {
   "cell_type": "markdown",
   "metadata": {},
   "source": [
    "## Salvando essas informações\n",
    "Agora, vamos colocar as informações encontradas em um dicionário, para, em seguida, criar um Data Frame ou salvar em arquivos."
   ]
  },
  {
   "cell_type": "code",
   "execution_count": 24,
   "metadata": {},
   "outputs": [],
   "source": [
    "Dict = {'Título':title ,'Nota':score, 'Link':vingadores_link,'Sinopse':Sinop,'Duração':duração}"
   ]
  },
  {
   "cell_type": "code",
   "execution_count": 25,
   "metadata": {},
   "outputs": [
    {
     "data": {
      "text/plain": [
       "{'Título': 'Avengers: Endgame (2019)',\n",
       " 'Nota': 94,\n",
       " 'Link': 'https://www.rottentomatoes.com/m/avengers_endgame',\n",
       " 'Sinopse': 'The grave course of events set in motion by Thanos that wiped out half the universe and fractured the Avengers ranks compels the remaining Avengers to take one final stand in Marvel Studios\\' grand conclusion to twenty-two films, \"Avengers: Endgame.\"',\n",
       " 'Duração': '182 minutes'}"
      ]
     },
     "execution_count": 25,
     "metadata": {},
     "output_type": "execute_result"
    }
   ],
   "source": [
    "Dict "
   ]
  },
  {
   "cell_type": "markdown",
   "metadata": {},
   "source": [
    "# Aplicando isso para todos os filmes\n",
    "**Hora da Diversão!**, agora, aplicaremos os mesmos passos que utilizamos em Endgame na lista `filmes`, que fizemos recentemente. Para isso usaremos o clássico comando `for` com algumas listas vazias. "
   ]
  },
  {
   "cell_type": "code",
   "execution_count": 26,
   "metadata": {},
   "outputs": [],
   "source": [
    "#LISTAS VAZIAS\n",
    "Títulos = []\n",
    "Notas = []\n",
    "Links = []\n",
    "Sinopses = []\n",
    "Durações = []\n",
    "\n",
    "\n",
    "\n",
    "for filme in filmes:\n",
    "    \n",
    "    #Pegando as notas (código idêntico ao da aplicação individual)\n",
    "    score=filme.find('span',class_='tMeterScore').text\n",
    "    lista=[int(s) for s in score.split()[0] if s.isdigit()]\n",
    "    score=lista[0]*10+lista[1]\n",
    "    if score == 10:\n",
    "        score=100        \n",
    "    Notas.append(score)\n",
    "    \n",
    "    \n",
    "    \n",
    "    \n",
    "    #Pegando os títulos (código idêntico ao da aplicação individual)\n",
    "    title=filme.a.text.strip()\n",
    "    Títulos.append(title)\n",
    "    \n",
    "    \n",
    "    \n",
    "    \n",
    "    #Pegando o link de todos os sites\n",
    "    href=filme.a['href']\n",
    "    link='https://www.rottentomatoes.com'+href\n",
    "    Links.append(link)\n",
    "    \n",
    "    \n",
    "    \n",
    "    \n",
    "    # FAZENDO O REQUEST\n",
    "    source=requests.get(link).text\n",
    "    # MONTANDO NOSSA LINDA SOPA DE HTML(rs)\n",
    "    soup2=BeautifulSoup(source,'html.parser')\n",
    "    \n",
    "    \n",
    "    \n",
    "    #Retirando a Sipnose\n",
    "    Sinop = soup2.findAll(\"div\", {\"id\": \"movieSynopsis\"})[0].text.strip()\n",
    "    Sinopses.append(Sinop)\n",
    "    \n",
    "    \n",
    "    \n",
    "    \n",
    "    #Retirando o Tempo de Duração\n",
    "    duração = soup2.find_all('time')[-1].text.strip()\n",
    "    Durações.append(duração)\n",
    "       \n",
    "    \n",
    "\n",
    "Títulos=Títulos[:100]\n",
    "Links=Links[:100]\n",
    "Sinopses=Sinopses[:100]\n",
    "Durações=Durações[:100]"
   ]
  },
  {
   "cell_type": "markdown",
   "metadata": {},
   "source": [
    "## Colocando tudo em um dicionário\n",
    "Depois de aproximadamente um minuto e meio, o código acima terminou de rodar e podemos colocar os dados que pegamos em um dicionário."
   ]
  },
  {
   "cell_type": "code",
   "execution_count": 27,
   "metadata": {},
   "outputs": [],
   "source": [
    "DADOS = {'Títulos':Títulos , 'Nota': Notas , 'Link': Links , 'Sinopse':Sinopses , 'Duração':Durações}"
   ]
  },
  {
   "cell_type": "markdown",
   "metadata": {},
   "source": [
    "# Colocando os dados em um DataFrame\n",
    "Agora o momento q estávamos esperando, criar uma DataFrame idêntica as que estamos acostumados a lidar usualmente "
   ]
  },
  {
   "cell_type": "code",
   "execution_count": 28,
   "metadata": {},
   "outputs": [
    {
     "data": {
      "text/html": [
       "<div>\n",
       "<style scoped>\n",
       "    .dataframe tbody tr th:only-of-type {\n",
       "        vertical-align: middle;\n",
       "    }\n",
       "\n",
       "    .dataframe tbody tr th {\n",
       "        vertical-align: top;\n",
       "    }\n",
       "\n",
       "    .dataframe thead th {\n",
       "        text-align: right;\n",
       "    }\n",
       "</style>\n",
       "<table border=\"1\" class=\"dataframe\">\n",
       "  <thead>\n",
       "    <tr style=\"text-align: right;\">\n",
       "      <th></th>\n",
       "      <th>Títulos</th>\n",
       "      <th>Nota</th>\n",
       "      <th>Link</th>\n",
       "      <th>Sinopse</th>\n",
       "      <th>Duração</th>\n",
       "    </tr>\n",
       "  </thead>\n",
       "  <tbody>\n",
       "    <tr>\n",
       "      <td>0</td>\n",
       "      <td>Avengers: Endgame (2019)</td>\n",
       "      <td>94</td>\n",
       "      <td>https://www.rottentomatoes.com/m/avengers_endgame</td>\n",
       "      <td>The grave course of events set in motion by Th...</td>\n",
       "      <td>182 minutes</td>\n",
       "    </tr>\n",
       "    <tr>\n",
       "      <td>1</td>\n",
       "      <td>Us (2019)</td>\n",
       "      <td>93</td>\n",
       "      <td>https://www.rottentomatoes.com/m/us_2019</td>\n",
       "      <td>Set in present day along the iconic Northern C...</td>\n",
       "      <td>120 minutes</td>\n",
       "    </tr>\n",
       "    <tr>\n",
       "      <td>2</td>\n",
       "      <td>Toy Story 4 (2019)</td>\n",
       "      <td>97</td>\n",
       "      <td>https://www.rottentomatoes.com/m/toy_story_4</td>\n",
       "      <td>Woody (voice of Tom Hanks) has always been con...</td>\n",
       "      <td>90 minutes</td>\n",
       "    </tr>\n",
       "    <tr>\n",
       "      <td>3</td>\n",
       "      <td>Parasite (Gisaengchung) (2019)</td>\n",
       "      <td>99</td>\n",
       "      <td>https://www.rottentomatoes.com/m/parasite_2019</td>\n",
       "      <td>Bong Joon Ho brings his work home to Korea in ...</td>\n",
       "      <td>132 minutes</td>\n",
       "    </tr>\n",
       "    <tr>\n",
       "      <td>4</td>\n",
       "      <td>Knives Out (2019)</td>\n",
       "      <td>97</td>\n",
       "      <td>https://www.rottentomatoes.com/m/knives_out</td>\n",
       "      <td>Acclaimed writer and director Rian Johnson (Br...</td>\n",
       "      <td>130 minutes</td>\n",
       "    </tr>\n",
       "  </tbody>\n",
       "</table>\n",
       "</div>"
      ],
      "text/plain": [
       "                          Títulos  Nota  \\\n",
       "0        Avengers: Endgame (2019)    94   \n",
       "1                       Us (2019)    93   \n",
       "2              Toy Story 4 (2019)    97   \n",
       "3  Parasite (Gisaengchung) (2019)    99   \n",
       "4               Knives Out (2019)    97   \n",
       "\n",
       "                                                Link  \\\n",
       "0  https://www.rottentomatoes.com/m/avengers_endgame   \n",
       "1           https://www.rottentomatoes.com/m/us_2019   \n",
       "2       https://www.rottentomatoes.com/m/toy_story_4   \n",
       "3     https://www.rottentomatoes.com/m/parasite_2019   \n",
       "4        https://www.rottentomatoes.com/m/knives_out   \n",
       "\n",
       "                                             Sinopse      Duração  \n",
       "0  The grave course of events set in motion by Th...  182 minutes  \n",
       "1  Set in present day along the iconic Northern C...  120 minutes  \n",
       "2  Woody (voice of Tom Hanks) has always been con...   90 minutes  \n",
       "3  Bong Joon Ho brings his work home to Korea in ...  132 minutes  \n",
       "4  Acclaimed writer and director Rian Johnson (Br...  130 minutes  "
      ]
     },
     "execution_count": 28,
     "metadata": {},
     "output_type": "execute_result"
    }
   ],
   "source": [
    "import pandas as pd\n",
    "\n",
    "df=pd.DataFrame(DADOS)\n",
    "\n",
    "df.head()"
   ]
  },
  {
   "cell_type": "markdown",
   "metadata": {},
   "source": [
    "# Conclusão\n",
    "E finalmente, temos nosso dataset FEITO POR NÓS MESMOS. Há de fato maneiras e lógicas de programação que otimizariam nosso processo, contudo esse método é o mais simples para se pegar dados online.\n",
    "\n",
    "OBS: Perceba que em \"Duração\", 4 filmes não apresentam adequadamente o tempo do filme, isso ocorre uma vez que o site não mostra essa informação. Você consegue retirar esses valores usando pandas? Consegue transformar a duração em dados numéricos? Tirar o \"(2019)\" dos títulos? Use o Dataset para treinar suas habilidades em Pandas."
   ]
  },
  {
   "cell_type": "markdown",
   "metadata": {},
   "source": [
    "# Material Adicional\n",
    "\n",
    "* Web Scraping with BeautifulSoup and Requests: https://www.youtube.com/watch?v=ng2o98k983k\n",
    "\n",
    "\n",
    "* Intro to Web Scraping with Python and Beautiful Soup: https://www.youtube.com/watch?v=XQgXKtPSzUI\n",
    "\n",
    "\n",
    "* Tutorial Web Scrapping com Python e Beautiful Soup | Português BR: https://www.youtube.com/watch?v=anv-Vt_FL4E\n",
    "\n",
    "\n",
    "* Web Scrapping 101 - Medium: https://codeburst.io/web-scraping-101-with-python-beautiful-soup-bb617be1f486\n"
   ]
  }
 ],
 "metadata": {
  "kernelspec": {
   "display_name": "Python 3",
   "language": "python",
   "name": "python3"
  },
  "language_info": {
   "codemirror_mode": {
    "name": "ipython",
    "version": 3
   },
   "file_extension": ".py",
   "mimetype": "text/x-python",
   "name": "python",
   "nbconvert_exporter": "python",
   "pygments_lexer": "ipython3",
   "version": "3.7.6"
  }
 },
 "nbformat": 4,
 "nbformat_minor": 2
}
