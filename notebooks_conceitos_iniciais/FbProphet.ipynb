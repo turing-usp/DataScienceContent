{
 "cells": [
  {
   "cell_type": "markdown",
   "metadata": {},
   "source": [
    "<img src=\"https://www.politecnicos.com.br/img/075.jpg\" alt=\"Grupo Turing\" height=\"420\" width=\"420\">\n"
   ]
  },
  {
   "cell_type": "markdown",
   "metadata": {},
   "source": [
    "# Prophet - Resumo e Aplicação\n",
    "\n",
    "<img id=\"YqOEc9IXkyKm5M:\" src=\"data:image/png;base64,iVBORw0KGgoAAAANSUhEUgAAAaQAAAB4CAMAAACKGXbnAAAAeFBMVEU7WZj///84V5cwUZQ2VZb7/P34+fubqMiptM4sT5Pv8fbS2OZUbqVkfK5IZJ9cdqrd4uwlSpG9xtprgbCzvtZAXpt6jbhPaqOFl79+kLjX3eqSosWisM3z9fnCy95MZp/n6/O3wddyhrKUo8RZcabL0uKLm8AbR5D4Ht7GAAAJ8UlEQVR4nO2da5eiOBCGIQTkIkKLgCIoeNv//w8XVJIolQR7e1baqefLnNNapMhrkkqlYAwDQRAEQRAEQRAEQRAEQRAEQRAEQT4dankefbcTiBJ6KndNRsm7/UDk0Mh3TLOaWe92BJHzVZhXTjiUJguJbhqZLg6lyUIPd5GW3rtdQWSQvX0TaYsjabp4zVWjOsc1abqQvKlMMzjgTmnKkEWYHeY4jiYOaXm3DwiCID8PoRSnt2lDvTxJTgR3RdOFWNEyruv4vDZwME0UQtb1LcHgrFJUaZrQzT0J1LLCsTRJyL42ORkmGaaIdRE0MoOvd/uDAHg7USQTR9IU+YofRJqjShPkSSQ8nZgi3vJBJA9FmiDsrBwPzCdMeuYaOSEuSW+E9Aw/ObCNUnX8Wyc7Qq0hY5LOFIa8nBVoPaD5fB5F83xveM91qYRk51vOoT7ytJDM6xfuFrgjxWdPX5AxHOmgpwPUjpN0MxuwzsJ9299KwzwDSfLuXEFp+XzjeeaudvGVYFVuFk/BASHzSxMEu1nI5SdpNvT6kiV7QpRCkXTdf/s4cJJc2JX2sKuHYaNPJMMWAU8HlOqolczPtvNMVfl1USaGQmASxdUNX/zH9+t6dwy/xtZpW3TTxJXN0nO2XcVN+GRMyWI+XxjiNRergdNXr+vVYaHyOi/6u60HMYgV9Feqnz244bnVsNUH7NlgHkmXw/4dYCbK3zWZB6YEJ56lUlsS+TI70/TjbNQhHaFZMbQuFsDK9DSLLpZDu7vMcZnLvc7ZtqsaisRCFB8OUCzXhtvkzAZG6U5n06GufFKI1PVXJlthlCJ1lol2bSJpAkg0LoSTi9RSbwGZb02+QSSVp4z/IpLpl5IzHJ1IZj1bqNrtWi5rwK7ajFnRlCKZ9koyx/8PIg2nO51Nx38SyTQlKmlFMqtSqRKNdtAt22WqsupRi2SaO3jK+8yR1D0GBNtpRWq3NYqWaXSGbOzluOycTiSzAX9bnyqSWYPzzwiRTD+SNk1zaDkyzUBu8oBWJGf2JpHeMt21U8ceuN8xIplnWaqNWLBGcTIydNeKZMbQI2YfEN2t7gRF7QgXqC7AFQSRarc3XLaWYtOOdFw0Dy5WxTEJwzDKRtfgCyLt7o3virgSrmmXQN7gx0QKVjDZwChdxQWnZldwHv4Mb8yY21wk2/BufH2l2U6QqQEiAEGkpeV5zDJfB4KlZFWim4cfQRN+WfekkspVEUGk7KtvnISuMLyLCNhu/ZBI9uUfDwSws4SPvxL2I64frqBJC3GRHOGv1Dryn2UN+CyItBPjMWrtXW55BtukkTDZ2UFGXs9tCyKt+Yih9MDPCKEJ4MdE+ubzazRh7ccvlGvAInUelex2HSB0kInUOrLnsbUP7SoJKYW5facMFWT6wSK1a92BjVEomP80keic/dyBjJRCJMPK2FDywdVbHEjnk0ojuljDH0tEauEfLIez9KeJ1K547HaB0lGFSCRlE68PJg63wkyq1MiKzhUUWipEIrwE7Dx8zOzTRCIGn+9WwMShEInynoD2WIuGXdi8qG7W61YY+BtykUI23/0VIs2+KZJBmCfQ3VIe4bQbKXlYQ9NZN+J2YH/JRYr+KpHS744kg/LpDgiD6Zpd15SsONev5a4z9KpHLlLCghKdSOkTBuuJESJ54KG0jp9fkxrWD+5LaxJN2Ef+cEUhqcuu60trHQkN7zGiDS5rUpHokX2wG6YBBZHs8mkf6vJNln4z22SbIYNj2QE/PpIiNh6cC7AtlIfg6ZJvzIEWxWSBNE9O1n0EaB+hmUUmEjGEBIoyulOhF8nxAZbaBP5PiyQUYVdAtkYmErkvJTdKwHDP09+l9GAwFfoaSgDK9kkeH0jOEdg4/JRIIGfNCdrPiNQdUpPu50gsr+EOBUCcLKaFeOGQZVnRkmvkAFMVOfF+AvZfd1L+Jb1I3dF65zmhnpgnAZ6T+f0i2SnLoM3XYpbahcrhuEhF2JcKbbZlIN5HDNSECNOoeZS69cJI2vRruJX2xV+3LgNOpn6/SGZ8Dm4UYjrZjKGle9RRBXSvI0Xic6JOpN7rc1CLfVhBa9kHiATjlKCdXiTbhU8LuUiK6Y6PZJ1Ish6Djng/ViRgu2GMEgkIga8N8v4fJVLzLZHqg+ZkVsWvEylOwM21ViRnCWxkOxY8bGxkMSud884E3w+pE8kHdg3Gnxbp/wjBQWLJmaFOJL+UvUVLSNzWsu9Ya3Z1G8xKaERy1tqSLntbPvPCZnY3qsZ4wJ8RKZhLkh0akYpE9s4FkvKcoCwtRMiKFx6Dk6ZapDj7TnEkfSUtBE8vcKtCE39ApHotLRZWitQOP0VSjp/LwQtHt5fiSxIUxqtFqlzZL+tJJPLAiwlWMkR6y/zef1Yk2/ELRSm4KJJ9r9zndQsVvI71Lfad4UuKVQmZ8WsBSQtDLpJTxe5JXrH/+7Pgpl9fU1B1HMdFM0tS1VMzYrXQZn1FqAKJ4aO6G32G1ZGWMAuHGSZ8ui6I1Hvdul2c3U2uKur4AJEut2RuFkbzNAWeh3qw4yLF1Lpt+PlCYq5UtpurBnYjUZIPtZYAnrkEkcq710l0WqSG+rzg94tkp+xgRD+9iiL1HkRCqc5afhdkcc0LyopVqXBGIont4LQQ0T9l+PtFgo/XZHZDkQhZCxOe4gEW2j0GKySbHnrWysVC/rNktMkLUdRe//UitT4IJbVL2TNC3XFGO1ZY0ECshWfdZqnu6dm1uN30ZSWtbxfJA6I7fYQ3BZHYf/Vhwsc5zDgvtqyPyCaut/N9d4C9D8vHjIAr28O/W6TZKQKZq9ufhEg0E85zJJug6/fCPrAj+XWjbwe75XL3XMUPZ/863iySlEIV1k5EJMPjBQxwHro37zWaN2JZ+COBXOapihT8BpFILoTP8D5UxIoU+Y4gkcfTKNIoO1ikdoXhEV6leUSZeJkiKR2orFGkUXYSkQyhYsuMlW+2JcZMkf9rlIX8KNIoO5lI5CRMeODZLGMh6PlEvVXkDQ0UaaSdTCTD2vDMm6MoUe12SGEAhg3+Ktf0/N8nkn3DHPVwfm8XsWC7ePoodR27R/MQLE2z3cNDlG0w7hdNqM1LtSL1Xit/B89etyLd7apBJ1lF77UveW3Nit8YzBiR7l+tX3nn72Lr3lm+8n4tclreS4uC8vm9WieXsdK9JJoa4XEZ1L7vtPL4dXx216fBm7qGraeX1b2FwZuIlKQz5tnw0I95XcJdTS+uhtVM/X55cuLtv5RY4gXnr1iRdJ/fGeR/Xixip2R+2FzKlbvdbBLt28HuzfN6zNee5VTcLdF6LXl7HMfS3a/Qxktuf5NXDiS1l2q7pXusYcwb65C3gvogCIIgCIIgCIIgCIIgCIIgCIIgCIIgCIIgCIIgCIIgCIJI+BecItNzWU49HAAAAABJRU5ErkJggg==\" jsaction=\"load:str.tbn\" class=\"rg_ic rg_i\" alt=\"Resultado de imagem para fbprophet\" style=\"width: 270px; height: 77px; margin-left: -8px; margin-right: -8px; margin-top: 29px;\" data-atf=\"1\">\n",
    "\n",
    "Autor: Felipe Azank dos Santos"
   ]
  },
  {
   "cell_type": "markdown",
   "metadata": {},
   "source": [
    "O Facebook Prophet, ou apenas Prophet, consiste em uma técnica de previsão com base em dados que se alteram com o passar do tempo (Time Series). Essa técnica, desenvolvida pela equipe de Data Scientists do Facebook, se destaca uma vez que consegue lidar muito bem com dados sazonais variáveis, compreendendo desde padrões anuais e mensais, até o impacto de feriados e promoções. Ademais, o Prophet também lida com outliers com extrema facilidade, além de vir com um aparato de funções de vizualizações de resultados extremamente didático. \n",
    "\n",
    "Na prática, sua utilização é bem semelhante com os métodos que utilizamos para treinar modelos supervisionados no Scikit-Learn. "
   ]
  },
  {
   "cell_type": "markdown",
   "metadata": {},
   "source": [
    "## Passo 1: Instalando o Prophet \n",
    "\n",
    "Guia do próprio site disponível [aqui](https://facebook.github.io/prophet/docs/installation.html)\n",
    "\n",
    "OU apenas use o seguinte comando no terminal da anaconda: **conda install -c conda-forge fbprophet**"
   ]
  },
  {
   "cell_type": "markdown",
   "metadata": {},
   "source": [
    "## Passo 2: Importando as bibliotecas necessárias"
   ]
  },
  {
   "cell_type": "code",
   "execution_count": 34,
   "metadata": {},
   "outputs": [],
   "source": [
    "import pandas as pd #biblioteca que usaremos para manipular os nossos dados\n",
    "\n",
    "from pandas_datareader.data import DataReader #pacote que utilizaremos para importar os dados\n",
    "\n",
    "from fbprophet import Prophet #biblioteca da predição em si"
   ]
  },
  {
   "cell_type": "markdown",
   "metadata": {},
   "source": [
    "## Passo 3: Importando os preços de uma ação\n",
    "\n",
    "<img class=\"irc_mi\" src=\"https://i.ytimg.com/vi/YttPJlBFG-c/hqdefault.jpg\" width=\"250\" height=\"360\" style=\"\" alt=\"Resultado de imagem para stonks\">\n",
    "\n",
    "É possível importar ações e dados econômicos de diversas maneiras distintas. Uma forma simples de se fazer isso é utilizando o pacote pandas_datareader com a função \"DataReader\", utilizada da seguinte maneira:\n",
    "\n",
    "* pd.DataReader(\"código da ação\",\"local de retirada do dado\",\"data de início\",\"data de fim\")\n",
    "\n",
    "**OBS:** Para dados da bolsa, sempre utilize o segundo argumento como \"yahoo\", haja vista que o Yahoo Finance fornece dados confiáveis e precisos\n",
    "\n",
    "**OBS2:** Caso queira importar alguns dados econômicos fornecidos pela Federal Reserve dos Estados Unidos (disponíveis [neste site](https://fred.stlouisfed.org/searchresults?st=brazil%5D), basta trocar o segundo argumento para \"fred\" e inserir no primeiro argumento o código presente no site :) "
   ]
  },
  {
   "cell_type": "markdown",
   "metadata": {},
   "source": [
    "\n",
    "\n"
   ]
  },
  {
   "cell_type": "code",
   "execution_count": 2,
   "metadata": {},
   "outputs": [],
   "source": [
    "# Importando as ações da American Airlines\n",
    "data=DataReader('AAL','yahoo','01-01-2017','01-01-2019')"
   ]
  },
  {
   "cell_type": "code",
   "execution_count": 3,
   "metadata": {
    "scrolled": true
   },
   "outputs": [
    {
     "data": {
      "text/html": [
       "<div>\n",
       "<style scoped>\n",
       "    .dataframe tbody tr th:only-of-type {\n",
       "        vertical-align: middle;\n",
       "    }\n",
       "\n",
       "    .dataframe tbody tr th {\n",
       "        vertical-align: top;\n",
       "    }\n",
       "\n",
       "    .dataframe thead th {\n",
       "        text-align: right;\n",
       "    }\n",
       "</style>\n",
       "<table border=\"1\" class=\"dataframe\">\n",
       "  <thead>\n",
       "    <tr style=\"text-align: right;\">\n",
       "      <th></th>\n",
       "      <th>High</th>\n",
       "      <th>Low</th>\n",
       "      <th>Open</th>\n",
       "      <th>Close</th>\n",
       "      <th>Volume</th>\n",
       "      <th>Adj Close</th>\n",
       "    </tr>\n",
       "    <tr>\n",
       "      <th>Date</th>\n",
       "      <th></th>\n",
       "      <th></th>\n",
       "      <th></th>\n",
       "      <th></th>\n",
       "      <th></th>\n",
       "      <th></th>\n",
       "    </tr>\n",
       "  </thead>\n",
       "  <tbody>\n",
       "    <tr>\n",
       "      <td>2017-01-03</td>\n",
       "      <td>47.340000</td>\n",
       "      <td>46.139999</td>\n",
       "      <td>47.279999</td>\n",
       "      <td>46.299999</td>\n",
       "      <td>6737800.0</td>\n",
       "      <td>44.906567</td>\n",
       "    </tr>\n",
       "    <tr>\n",
       "      <td>2017-01-04</td>\n",
       "      <td>47.439999</td>\n",
       "      <td>46.349998</td>\n",
       "      <td>46.630001</td>\n",
       "      <td>46.700001</td>\n",
       "      <td>5859600.0</td>\n",
       "      <td>45.294525</td>\n",
       "    </tr>\n",
       "    <tr>\n",
       "      <td>2017-01-05</td>\n",
       "      <td>46.930000</td>\n",
       "      <td>45.610001</td>\n",
       "      <td>46.520000</td>\n",
       "      <td>45.889999</td>\n",
       "      <td>6825300.0</td>\n",
       "      <td>44.508907</td>\n",
       "    </tr>\n",
       "    <tr>\n",
       "      <td>2017-01-06</td>\n",
       "      <td>46.720001</td>\n",
       "      <td>45.470001</td>\n",
       "      <td>45.849998</td>\n",
       "      <td>46.209999</td>\n",
       "      <td>7260200.0</td>\n",
       "      <td>44.819275</td>\n",
       "    </tr>\n",
       "    <tr>\n",
       "      <td>2017-01-09</td>\n",
       "      <td>47.340000</td>\n",
       "      <td>45.779999</td>\n",
       "      <td>46.009998</td>\n",
       "      <td>47.080002</td>\n",
       "      <td>4739100.0</td>\n",
       "      <td>45.663097</td>\n",
       "    </tr>\n",
       "  </tbody>\n",
       "</table>\n",
       "</div>"
      ],
      "text/plain": [
       "                 High        Low       Open      Close     Volume  Adj Close\n",
       "Date                                                                        \n",
       "2017-01-03  47.340000  46.139999  47.279999  46.299999  6737800.0  44.906567\n",
       "2017-01-04  47.439999  46.349998  46.630001  46.700001  5859600.0  45.294525\n",
       "2017-01-05  46.930000  45.610001  46.520000  45.889999  6825300.0  44.508907\n",
       "2017-01-06  46.720001  45.470001  45.849998  46.209999  7260200.0  44.819275\n",
       "2017-01-09  47.340000  45.779999  46.009998  47.080002  4739100.0  45.663097"
      ]
     },
     "execution_count": 3,
     "metadata": {},
     "output_type": "execute_result"
    }
   ],
   "source": [
    "data.head()"
   ]
  },
  {
   "cell_type": "markdown",
   "metadata": {},
   "source": [
    "## Criando o DataFrame necessário\n",
    "\n",
    "Agora, criaremos o DataFrame necessário para que seja possível realizarmos a predição. Para que isso seja possível, vamos selecionar apenas duas colunas nomeadas \"ds\" e \"y\", sendo a primeira formada pelas datas, e a segunda, formada pelos valores desejados. \n",
    "\n",
    "Nesse caso usaremos o preço de fechamento da ação (\"Close\")"
   ]
  },
  {
   "cell_type": "code",
   "execution_count": 4,
   "metadata": {},
   "outputs": [],
   "source": [
    "df=pd.DataFrame() #iniciamos um dataframe vazio \n",
    "\n",
    "df['y']=data['Close'] #criamos a coluna 'y'\n",
    "\n",
    "df['ds']=pd.to_datetime(data.index) #criamos a coluna 'ds' e certificamos que esteja na forma de datetime\n",
    "\n",
    "df.reset_index(inplace=True) #retiramos o index (requerimento do Prophet)\n",
    "df.drop('Date',axis=1,inplace=True) "
   ]
  },
  {
   "cell_type": "code",
   "execution_count": 5,
   "metadata": {},
   "outputs": [
    {
     "data": {
      "text/html": [
       "<div>\n",
       "<style scoped>\n",
       "    .dataframe tbody tr th:only-of-type {\n",
       "        vertical-align: middle;\n",
       "    }\n",
       "\n",
       "    .dataframe tbody tr th {\n",
       "        vertical-align: top;\n",
       "    }\n",
       "\n",
       "    .dataframe thead th {\n",
       "        text-align: right;\n",
       "    }\n",
       "</style>\n",
       "<table border=\"1\" class=\"dataframe\">\n",
       "  <thead>\n",
       "    <tr style=\"text-align: right;\">\n",
       "      <th></th>\n",
       "      <th>y</th>\n",
       "      <th>ds</th>\n",
       "    </tr>\n",
       "  </thead>\n",
       "  <tbody>\n",
       "    <tr>\n",
       "      <td>0</td>\n",
       "      <td>46.299999</td>\n",
       "      <td>2017-01-03</td>\n",
       "    </tr>\n",
       "    <tr>\n",
       "      <td>1</td>\n",
       "      <td>46.700001</td>\n",
       "      <td>2017-01-04</td>\n",
       "    </tr>\n",
       "    <tr>\n",
       "      <td>2</td>\n",
       "      <td>45.889999</td>\n",
       "      <td>2017-01-05</td>\n",
       "    </tr>\n",
       "    <tr>\n",
       "      <td>3</td>\n",
       "      <td>46.209999</td>\n",
       "      <td>2017-01-06</td>\n",
       "    </tr>\n",
       "    <tr>\n",
       "      <td>4</td>\n",
       "      <td>47.080002</td>\n",
       "      <td>2017-01-09</td>\n",
       "    </tr>\n",
       "  </tbody>\n",
       "</table>\n",
       "</div>"
      ],
      "text/plain": [
       "           y         ds\n",
       "0  46.299999 2017-01-03\n",
       "1  46.700001 2017-01-04\n",
       "2  45.889999 2017-01-05\n",
       "3  46.209999 2017-01-06\n",
       "4  47.080002 2017-01-09"
      ]
     },
     "execution_count": 5,
     "metadata": {},
     "output_type": "execute_result"
    }
   ],
   "source": [
    "df.head()"
   ]
  },
  {
   "cell_type": "markdown",
   "metadata": {},
   "source": [
    "## Montando o modelo"
   ]
  },
  {
   "cell_type": "code",
   "execution_count": 33,
   "metadata": {},
   "outputs": [
    {
     "name": "stderr",
     "output_type": "stream",
     "text": [
      "INFO:fbprophet:Disabling yearly seasonality. Run prophet with yearly_seasonality=True to override this.\n",
      "INFO:fbprophet:Disabling daily seasonality. Run prophet with daily_seasonality=True to override this.\n"
     ]
    },
    {
     "data": {
      "text/plain": [
       "<fbprophet.forecaster.Prophet at 0x7fcf598eeb90>"
      ]
     },
     "execution_count": 33,
     "metadata": {},
     "output_type": "execute_result"
    }
   ],
   "source": [
    "Fb=Prophet(seasonality_mode='multiplicative') #criando o modelo\n",
    "\n",
    "Fb.fit(df) #treinando o modelo com a base de teste (parecido com o que fazemos no sklearn)"
   ]
  },
  {
   "cell_type": "markdown",
   "metadata": {},
   "source": [
    "## Criando o \"fututo\"\n",
    "Para realizarmos uma predição, o FbProphet apresenta um pacote especializado em criar datas de modo bem simples"
   ]
  },
  {
   "cell_type": "code",
   "execution_count": 7,
   "metadata": {},
   "outputs": [
    {
     "data": {
      "text/html": [
       "<div>\n",
       "<style scoped>\n",
       "    .dataframe tbody tr th:only-of-type {\n",
       "        vertical-align: middle;\n",
       "    }\n",
       "\n",
       "    .dataframe tbody tr th {\n",
       "        vertical-align: top;\n",
       "    }\n",
       "\n",
       "    .dataframe thead th {\n",
       "        text-align: right;\n",
       "    }\n",
       "</style>\n",
       "<table border=\"1\" class=\"dataframe\">\n",
       "  <thead>\n",
       "    <tr style=\"text-align: right;\">\n",
       "      <th></th>\n",
       "      <th>ds</th>\n",
       "    </tr>\n",
       "  </thead>\n",
       "  <tbody>\n",
       "    <tr>\n",
       "      <td>0</td>\n",
       "      <td>2017-01-03</td>\n",
       "    </tr>\n",
       "    <tr>\n",
       "      <td>1</td>\n",
       "      <td>2017-01-04</td>\n",
       "    </tr>\n",
       "    <tr>\n",
       "      <td>2</td>\n",
       "      <td>2017-01-05</td>\n",
       "    </tr>\n",
       "    <tr>\n",
       "      <td>3</td>\n",
       "      <td>2017-01-06</td>\n",
       "    </tr>\n",
       "    <tr>\n",
       "      <td>4</td>\n",
       "      <td>2017-01-09</td>\n",
       "    </tr>\n",
       "  </tbody>\n",
       "</table>\n",
       "</div>"
      ],
      "text/plain": [
       "          ds\n",
       "0 2017-01-03\n",
       "1 2017-01-04\n",
       "2 2017-01-05\n",
       "3 2017-01-06\n",
       "4 2017-01-09"
      ]
     },
     "execution_count": 7,
     "metadata": {},
     "output_type": "execute_result"
    }
   ],
   "source": [
    "future = Fb.make_future_dataframe(periods=30) #novas datas, posteriores ao valores da base de treino\n",
    "future.head()"
   ]
  },
  {
   "cell_type": "code",
   "execution_count": 8,
   "metadata": {},
   "outputs": [
    {
     "data": {
      "text/html": [
       "<div>\n",
       "<style scoped>\n",
       "    .dataframe tbody tr th:only-of-type {\n",
       "        vertical-align: middle;\n",
       "    }\n",
       "\n",
       "    .dataframe tbody tr th {\n",
       "        vertical-align: top;\n",
       "    }\n",
       "\n",
       "    .dataframe thead th {\n",
       "        text-align: right;\n",
       "    }\n",
       "</style>\n",
       "<table border=\"1\" class=\"dataframe\">\n",
       "  <thead>\n",
       "    <tr style=\"text-align: right;\">\n",
       "      <th></th>\n",
       "      <th>ds</th>\n",
       "    </tr>\n",
       "  </thead>\n",
       "  <tbody>\n",
       "    <tr>\n",
       "      <td>528</td>\n",
       "      <td>2019-01-28</td>\n",
       "    </tr>\n",
       "    <tr>\n",
       "      <td>529</td>\n",
       "      <td>2019-01-29</td>\n",
       "    </tr>\n",
       "    <tr>\n",
       "      <td>530</td>\n",
       "      <td>2019-01-30</td>\n",
       "    </tr>\n",
       "    <tr>\n",
       "      <td>531</td>\n",
       "      <td>2019-01-31</td>\n",
       "    </tr>\n",
       "    <tr>\n",
       "      <td>532</td>\n",
       "      <td>2019-02-01</td>\n",
       "    </tr>\n",
       "  </tbody>\n",
       "</table>\n",
       "</div>"
      ],
      "text/plain": [
       "            ds\n",
       "528 2019-01-28\n",
       "529 2019-01-29\n",
       "530 2019-01-30\n",
       "531 2019-01-31\n",
       "532 2019-02-01"
      ]
     },
     "execution_count": 8,
     "metadata": {},
     "output_type": "execute_result"
    }
   ],
   "source": [
    "future.tail()"
   ]
  },
  {
   "cell_type": "markdown",
   "metadata": {},
   "source": [
    "## Fazendo as predições\n",
    "\n",
    "Ao realizar as predições, é possível perceber que o forecast produzirá múltiplas colunas, relacionadas com as transformações anuais e semanais dos dados"
   ]
  },
  {
   "cell_type": "code",
   "execution_count": 9,
   "metadata": {},
   "outputs": [],
   "source": [
    "forecast = Fb.predict(future)"
   ]
  },
  {
   "cell_type": "code",
   "execution_count": 10,
   "metadata": {},
   "outputs": [
    {
     "data": {
      "text/html": [
       "<div>\n",
       "<style scoped>\n",
       "    .dataframe tbody tr th:only-of-type {\n",
       "        vertical-align: middle;\n",
       "    }\n",
       "\n",
       "    .dataframe tbody tr th {\n",
       "        vertical-align: top;\n",
       "    }\n",
       "\n",
       "    .dataframe thead th {\n",
       "        text-align: right;\n",
       "    }\n",
       "</style>\n",
       "<table border=\"1\" class=\"dataframe\">\n",
       "  <thead>\n",
       "    <tr style=\"text-align: right;\">\n",
       "      <th></th>\n",
       "      <th>ds</th>\n",
       "      <th>trend</th>\n",
       "      <th>yhat_lower</th>\n",
       "      <th>yhat_upper</th>\n",
       "      <th>trend_lower</th>\n",
       "      <th>trend_upper</th>\n",
       "      <th>multiplicative_terms</th>\n",
       "      <th>multiplicative_terms_lower</th>\n",
       "      <th>multiplicative_terms_upper</th>\n",
       "      <th>weekly</th>\n",
       "      <th>weekly_lower</th>\n",
       "      <th>weekly_upper</th>\n",
       "      <th>additive_terms</th>\n",
       "      <th>additive_terms_lower</th>\n",
       "      <th>additive_terms_upper</th>\n",
       "      <th>yhat</th>\n",
       "    </tr>\n",
       "  </thead>\n",
       "  <tbody>\n",
       "    <tr>\n",
       "      <td>0</td>\n",
       "      <td>2017-01-03</td>\n",
       "      <td>13.695221</td>\n",
       "      <td>45.311181</td>\n",
       "      <td>50.531613</td>\n",
       "      <td>13.695221</td>\n",
       "      <td>13.695221</td>\n",
       "      <td>2.496871</td>\n",
       "      <td>2.496871</td>\n",
       "      <td>2.496871</td>\n",
       "      <td>2.496871</td>\n",
       "      <td>2.496871</td>\n",
       "      <td>2.496871</td>\n",
       "      <td>0.0</td>\n",
       "      <td>0.0</td>\n",
       "      <td>0.0</td>\n",
       "      <td>47.890417</td>\n",
       "    </tr>\n",
       "    <tr>\n",
       "      <td>1</td>\n",
       "      <td>2017-01-04</td>\n",
       "      <td>13.678693</td>\n",
       "      <td>45.188588</td>\n",
       "      <td>50.521716</td>\n",
       "      <td>13.678693</td>\n",
       "      <td>13.678693</td>\n",
       "      <td>2.496224</td>\n",
       "      <td>2.496224</td>\n",
       "      <td>2.496224</td>\n",
       "      <td>2.496224</td>\n",
       "      <td>2.496224</td>\n",
       "      <td>2.496224</td>\n",
       "      <td>0.0</td>\n",
       "      <td>0.0</td>\n",
       "      <td>0.0</td>\n",
       "      <td>47.823780</td>\n",
       "    </tr>\n",
       "    <tr>\n",
       "      <td>2</td>\n",
       "      <td>2017-01-05</td>\n",
       "      <td>13.662166</td>\n",
       "      <td>44.971687</td>\n",
       "      <td>50.170571</td>\n",
       "      <td>13.662166</td>\n",
       "      <td>13.662166</td>\n",
       "      <td>2.490244</td>\n",
       "      <td>2.490244</td>\n",
       "      <td>2.490244</td>\n",
       "      <td>2.490244</td>\n",
       "      <td>2.490244</td>\n",
       "      <td>2.490244</td>\n",
       "      <td>0.0</td>\n",
       "      <td>0.0</td>\n",
       "      <td>0.0</td>\n",
       "      <td>47.684286</td>\n",
       "    </tr>\n",
       "    <tr>\n",
       "      <td>3</td>\n",
       "      <td>2017-01-06</td>\n",
       "      <td>13.645638</td>\n",
       "      <td>44.985220</td>\n",
       "      <td>50.320479</td>\n",
       "      <td>13.645638</td>\n",
       "      <td>13.645638</td>\n",
       "      <td>2.489925</td>\n",
       "      <td>2.489925</td>\n",
       "      <td>2.489925</td>\n",
       "      <td>2.489925</td>\n",
       "      <td>2.489925</td>\n",
       "      <td>2.489925</td>\n",
       "      <td>0.0</td>\n",
       "      <td>0.0</td>\n",
       "      <td>0.0</td>\n",
       "      <td>47.622255</td>\n",
       "    </tr>\n",
       "    <tr>\n",
       "      <td>4</td>\n",
       "      <td>2017-01-09</td>\n",
       "      <td>13.596054</td>\n",
       "      <td>44.954787</td>\n",
       "      <td>50.170942</td>\n",
       "      <td>13.596054</td>\n",
       "      <td>13.596054</td>\n",
       "      <td>2.488917</td>\n",
       "      <td>2.488917</td>\n",
       "      <td>2.488917</td>\n",
       "      <td>2.488917</td>\n",
       "      <td>2.488917</td>\n",
       "      <td>2.488917</td>\n",
       "      <td>0.0</td>\n",
       "      <td>0.0</td>\n",
       "      <td>0.0</td>\n",
       "      <td>47.435508</td>\n",
       "    </tr>\n",
       "  </tbody>\n",
       "</table>\n",
       "</div>"
      ],
      "text/plain": [
       "          ds      trend  yhat_lower  yhat_upper  trend_lower  trend_upper  \\\n",
       "0 2017-01-03  13.695221   45.311181   50.531613    13.695221    13.695221   \n",
       "1 2017-01-04  13.678693   45.188588   50.521716    13.678693    13.678693   \n",
       "2 2017-01-05  13.662166   44.971687   50.170571    13.662166    13.662166   \n",
       "3 2017-01-06  13.645638   44.985220   50.320479    13.645638    13.645638   \n",
       "4 2017-01-09  13.596054   44.954787   50.170942    13.596054    13.596054   \n",
       "\n",
       "   multiplicative_terms  multiplicative_terms_lower  \\\n",
       "0              2.496871                    2.496871   \n",
       "1              2.496224                    2.496224   \n",
       "2              2.490244                    2.490244   \n",
       "3              2.489925                    2.489925   \n",
       "4              2.488917                    2.488917   \n",
       "\n",
       "   multiplicative_terms_upper    weekly  weekly_lower  weekly_upper  \\\n",
       "0                    2.496871  2.496871      2.496871      2.496871   \n",
       "1                    2.496224  2.496224      2.496224      2.496224   \n",
       "2                    2.490244  2.490244      2.490244      2.490244   \n",
       "3                    2.489925  2.489925      2.489925      2.489925   \n",
       "4                    2.488917  2.488917      2.488917      2.488917   \n",
       "\n",
       "   additive_terms  additive_terms_lower  additive_terms_upper       yhat  \n",
       "0             0.0                   0.0                   0.0  47.890417  \n",
       "1             0.0                   0.0                   0.0  47.823780  \n",
       "2             0.0                   0.0                   0.0  47.684286  \n",
       "3             0.0                   0.0                   0.0  47.622255  \n",
       "4             0.0                   0.0                   0.0  47.435508  "
      ]
     },
     "execution_count": 10,
     "metadata": {},
     "output_type": "execute_result"
    }
   ],
   "source": [
    "forecast.head()"
   ]
  },
  {
   "cell_type": "code",
   "execution_count": 11,
   "metadata": {},
   "outputs": [
    {
     "data": {
      "text/html": [
       "<div>\n",
       "<style scoped>\n",
       "    .dataframe tbody tr th:only-of-type {\n",
       "        vertical-align: middle;\n",
       "    }\n",
       "\n",
       "    .dataframe tbody tr th {\n",
       "        vertical-align: top;\n",
       "    }\n",
       "\n",
       "    .dataframe thead th {\n",
       "        text-align: right;\n",
       "    }\n",
       "</style>\n",
       "<table border=\"1\" class=\"dataframe\">\n",
       "  <thead>\n",
       "    <tr style=\"text-align: right;\">\n",
       "      <th></th>\n",
       "      <th>ds</th>\n",
       "      <th>yhat</th>\n",
       "    </tr>\n",
       "  </thead>\n",
       "  <tbody>\n",
       "    <tr>\n",
       "      <td>525</td>\n",
       "      <td>2019-01-25</td>\n",
       "      <td>32.850023</td>\n",
       "    </tr>\n",
       "    <tr>\n",
       "      <td>526</td>\n",
       "      <td>2019-01-26</td>\n",
       "      <td>-49.187009</td>\n",
       "    </tr>\n",
       "    <tr>\n",
       "      <td>527</td>\n",
       "      <td>2019-01-27</td>\n",
       "      <td>-49.134725</td>\n",
       "    </tr>\n",
       "    <tr>\n",
       "      <td>528</td>\n",
       "      <td>2019-01-28</td>\n",
       "      <td>32.735923</td>\n",
       "    </tr>\n",
       "    <tr>\n",
       "      <td>529</td>\n",
       "      <td>2019-01-29</td>\n",
       "      <td>32.775598</td>\n",
       "    </tr>\n",
       "    <tr>\n",
       "      <td>530</td>\n",
       "      <td>2019-01-30</td>\n",
       "      <td>32.734597</td>\n",
       "    </tr>\n",
       "    <tr>\n",
       "      <td>531</td>\n",
       "      <td>2019-01-31</td>\n",
       "      <td>32.643716</td>\n",
       "    </tr>\n",
       "    <tr>\n",
       "      <td>532</td>\n",
       "      <td>2019-02-01</td>\n",
       "      <td>32.605857</td>\n",
       "    </tr>\n",
       "  </tbody>\n",
       "</table>\n",
       "</div>"
      ],
      "text/plain": [
       "            ds       yhat\n",
       "525 2019-01-25  32.850023\n",
       "526 2019-01-26 -49.187009\n",
       "527 2019-01-27 -49.134725\n",
       "528 2019-01-28  32.735923\n",
       "529 2019-01-29  32.775598\n",
       "530 2019-01-30  32.734597\n",
       "531 2019-01-31  32.643716\n",
       "532 2019-02-01  32.605857"
      ]
     },
     "execution_count": 11,
     "metadata": {},
     "output_type": "execute_result"
    }
   ],
   "source": [
    "forecast[['ds','yhat']].tail(8)"
   ]
  },
  {
   "cell_type": "markdown",
   "metadata": {},
   "source": [
    "## Fazendo Gráficos para análise\n",
    "O próprio pacote conta com muitas ferramentas de plotagem e validação úteis"
   ]
  },
  {
   "cell_type": "code",
   "execution_count": 12,
   "metadata": {},
   "outputs": [
    {
     "data": {
      "image/png": "[encoded data removed]",
      "text/plain": [
       "<Figure size 720x432 with 1 Axes>"
      ]
     },
     "metadata": {},
     "output_type": "display_data"
    }
   ],
   "source": [
    "P=Fb.plot(forecast,xlabel='Tempo',ylabel='Preço de Fechamento')\n",
    "\n",
    "import matplotlib.pyplot as plt #usado apenas por questões de estética\n",
    "plt.show()"
   ]
  },
  {
   "cell_type": "markdown",
   "metadata": {},
   "source": [
    "## Evidenciando mudanças na tendência\n",
    "\n",
    "Dentre as muitas utilidades, é possível analisar os pontos em que ocorrem uma ruptura na tendência dos dados. Isso é extremamente útil, haja vista que nos permite identificar ocorrências importantes em nossos dados. "
   ]
  },
  {
   "cell_type": "code",
   "execution_count": 13,
   "metadata": {},
   "outputs": [
    {
     "data": {
      "image/png": "[encoded data removed]",
      "text/plain": [
       "<Figure size 720x432 with 1 Axes>"
      ]
     },
     "metadata": {},
     "output_type": "display_data"
    }
   ],
   "source": [
    "from fbprophet.plot import add_changepoints_to_plot #pacote necessário\n",
    "\n",
    "P=Fb.plot(forecast,xlabel='Tempo',ylabel='Preço de Fechamento') \n",
    "\n",
    "a=add_changepoints_to_plot(P.gca(),Fb,forecast)"
   ]
  },
  {
   "cell_type": "markdown",
   "metadata": {},
   "source": [
    "## Análise de Componentes\n",
    "\n",
    "Também é possível utilizar o Prophet para analisar os componentes presentes na Time Serie, uma vez que ele identifica com facilidade a tendência geral, assim como a sazonalidade dos dados "
   ]
  },
  {
   "cell_type": "code",
   "execution_count": 14,
   "metadata": {},
   "outputs": [
    {
     "data": {
      "image/png": "[encoded data removed]",
      "text/plain": [
       "<Figure size 648x432 with 2 Axes>"
      ]
     },
     "metadata": {},
     "output_type": "display_data"
    }
   ],
   "source": [
    "fig = Fb.plot_components(forecast)"
   ]
  },
  {
   "cell_type": "markdown",
   "metadata": {},
   "source": [
    "Enquanto o primeiro gráfico nos ajuda a identificar momentos marcantes na história das ações da american airlines, o segundo gráfico se da em resposta a falta de dados nos Sábados e Domingos (uma vez que a bolsa não abre nesses dias)\n",
    "\n",
    "OBS: para saber mais sobre o que aconteceu com a american airlines no começo de 2018 clique [aqui](https://www.fool.com/investing/2018/04/26/why-american-airlines-stock-dropped-6-today.aspx)"
   ]
  },
  {
   "cell_type": "markdown",
   "metadata": {},
   "source": [
    "## Prophet Cross Validation e avaliação do modelo\n",
    "Por fim, depois de mostrar algumas utilidades do Prophet, podemos finalmente aprender a avaliar nossas predições. Para isso usaremos métricas de avaliações e de predições que já conhecemos, porém utilizando funções nativas do Prophet.\n",
    "\n",
    "Vamos primeiro fazer uma nova predição utilizando uma cross validation, contudo, esse método se distingue do cross validation padrão pois se baseia em Cutoffs:\n",
    "* Primeiramente, o modelo \"treina\" com uma certa quantidade de dias (initial)\n",
    "* Em seguida, ele realiza as predição de uma determinada quantidade de dias (horizon)\n",
    "* Depois, ao analisar as predições com os dados reais, o modelo \"pula\" um intervalo de valores para repetir esse processo (salto = period)\n",
    "\n",
    "OBS: a função de cross_validation aceita todos esses parametros listados, contudo, apenas é necessário inserir o modelo e o horizonte, nesse caso, o initial será 3 vezes o horizonte e o periodo, a metade\n",
    "\n",
    "<img id=\"2FxGzU-SD-bf5M:\" src=\"data:image/png;base64,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\" jsaction=\"load:str.tbn\" class=\"rg_ic rg_i\" alt=\"Resultado de imagem para cross validation fbprophet\" style=\"width: 386px; height: 276px; margin-left: 15px; margin-right: 16px; margin-top: 13px;\" data-atf=\"1\">\n",
    "\n",
    "\n",
    "Por fim, utilizaremos dessa predição para geral o relatório avaliador do nosso modelo com a função \"performance_metrics\"."
   ]
  },
  {
   "cell_type": "code",
   "execution_count": 30,
   "metadata": {},
   "outputs": [
    {
     "name": "stderr",
     "output_type": "stream",
     "text": [
      "INFO:fbprophet:Making 11 forecasts with cutoffs between 2017-04-12 00:00:00 and 2018-12-03 00:00:00\n"
     ]
    },
    {
     "data": {
      "text/html": [
       "<div>\n",
       "<style scoped>\n",
       "    .dataframe tbody tr th:only-of-type {\n",
       "        vertical-align: middle;\n",
       "    }\n",
       "\n",
       "    .dataframe tbody tr th {\n",
       "        vertical-align: top;\n",
       "    }\n",
       "\n",
       "    .dataframe thead th {\n",
       "        text-align: right;\n",
       "    }\n",
       "</style>\n",
       "<table border=\"1\" class=\"dataframe\">\n",
       "  <thead>\n",
       "    <tr style=\"text-align: right;\">\n",
       "      <th></th>\n",
       "      <th>ds</th>\n",
       "      <th>yhat</th>\n",
       "      <th>yhat_lower</th>\n",
       "      <th>yhat_upper</th>\n",
       "      <th>y</th>\n",
       "      <th>cutoff</th>\n",
       "    </tr>\n",
       "  </thead>\n",
       "  <tbody>\n",
       "    <tr>\n",
       "      <td>0</td>\n",
       "      <td>2017-04-13</td>\n",
       "      <td>43.028230</td>\n",
       "      <td>42.349661</td>\n",
       "      <td>43.770202</td>\n",
       "      <td>43.349998</td>\n",
       "      <td>2017-04-12</td>\n",
       "    </tr>\n",
       "    <tr>\n",
       "      <td>1</td>\n",
       "      <td>2017-04-17</td>\n",
       "      <td>43.291314</td>\n",
       "      <td>42.311274</td>\n",
       "      <td>44.221097</td>\n",
       "      <td>44.230000</td>\n",
       "      <td>2017-04-12</td>\n",
       "    </tr>\n",
       "    <tr>\n",
       "      <td>2</td>\n",
       "      <td>2017-04-18</td>\n",
       "      <td>43.316894</td>\n",
       "      <td>42.264753</td>\n",
       "      <td>44.329055</td>\n",
       "      <td>43.810001</td>\n",
       "      <td>2017-04-12</td>\n",
       "    </tr>\n",
       "    <tr>\n",
       "      <td>3</td>\n",
       "      <td>2017-04-19</td>\n",
       "      <td>43.626114</td>\n",
       "      <td>42.274296</td>\n",
       "      <td>44.886575</td>\n",
       "      <td>44.400002</td>\n",
       "      <td>2017-04-12</td>\n",
       "    </tr>\n",
       "    <tr>\n",
       "      <td>4</td>\n",
       "      <td>2017-04-20</td>\n",
       "      <td>43.610787</td>\n",
       "      <td>42.138224</td>\n",
       "      <td>45.074824</td>\n",
       "      <td>45.220001</td>\n",
       "      <td>2017-04-12</td>\n",
       "    </tr>\n",
       "  </tbody>\n",
       "</table>\n",
       "</div>"
      ],
      "text/plain": [
       "          ds       yhat  yhat_lower  yhat_upper          y     cutoff\n",
       "0 2017-04-13  43.028230   42.349661   43.770202  43.349998 2017-04-12\n",
       "1 2017-04-17  43.291314   42.311274   44.221097  44.230000 2017-04-12\n",
       "2 2017-04-18  43.316894   42.264753   44.329055  43.810001 2017-04-12\n",
       "3 2017-04-19  43.626114   42.274296   44.886575  44.400002 2017-04-12\n",
       "4 2017-04-20  43.610787   42.138224   45.074824  45.220001 2017-04-12"
      ]
     },
     "execution_count": 30,
     "metadata": {},
     "output_type": "execute_result"
    }
   ],
   "source": [
    "#CRIANDO O MODELO\n",
    "\n",
    "from fbprophet.diagnostics import cross_validation #importando o cross validation do Prophet\n",
    "\n",
    "Predict2 = cross_validation(Fb, horizon = '30 days', initial='80 days',period='60 days')\n",
    "\n",
    "Predict2.head()"
   ]
  },
  {
   "cell_type": "code",
   "execution_count": 32,
   "metadata": {},
   "outputs": [
    {
     "data": {
      "text/html": [
       "<div>\n",
       "<style scoped>\n",
       "    .dataframe tbody tr th:only-of-type {\n",
       "        vertical-align: middle;\n",
       "    }\n",
       "\n",
       "    .dataframe tbody tr th {\n",
       "        vertical-align: top;\n",
       "    }\n",
       "\n",
       "    .dataframe thead th {\n",
       "        text-align: right;\n",
       "    }\n",
       "</style>\n",
       "<table border=\"1\" class=\"dataframe\">\n",
       "  <thead>\n",
       "    <tr style=\"text-align: right;\">\n",
       "      <th></th>\n",
       "      <th>horizon</th>\n",
       "      <th>mse</th>\n",
       "      <th>rmse</th>\n",
       "      <th>mae</th>\n",
       "      <th>mape</th>\n",
       "      <th>coverage</th>\n",
       "    </tr>\n",
       "  </thead>\n",
       "  <tbody>\n",
       "    <tr>\n",
       "      <td>0</td>\n",
       "      <td>3 days</td>\n",
       "      <td>14.811560</td>\n",
       "      <td>3.848579</td>\n",
       "      <td>3.104956</td>\n",
       "      <td>0.065367</td>\n",
       "      <td>0.500000</td>\n",
       "    </tr>\n",
       "    <tr>\n",
       "      <td>1</td>\n",
       "      <td>4 days</td>\n",
       "      <td>16.454107</td>\n",
       "      <td>4.056366</td>\n",
       "      <td>3.366318</td>\n",
       "      <td>0.072072</td>\n",
       "      <td>0.434343</td>\n",
       "    </tr>\n",
       "    <tr>\n",
       "      <td>2</td>\n",
       "      <td>5 days</td>\n",
       "      <td>14.399782</td>\n",
       "      <td>3.794705</td>\n",
       "      <td>3.189261</td>\n",
       "      <td>0.071051</td>\n",
       "      <td>0.344156</td>\n",
       "    </tr>\n",
       "    <tr>\n",
       "      <td>3</td>\n",
       "      <td>6 days</td>\n",
       "      <td>15.368722</td>\n",
       "      <td>3.920296</td>\n",
       "      <td>3.315506</td>\n",
       "      <td>0.076994</td>\n",
       "      <td>0.255682</td>\n",
       "    </tr>\n",
       "    <tr>\n",
       "      <td>4</td>\n",
       "      <td>7 days</td>\n",
       "      <td>17.531962</td>\n",
       "      <td>4.187119</td>\n",
       "      <td>3.585905</td>\n",
       "      <td>0.084684</td>\n",
       "      <td>0.215909</td>\n",
       "    </tr>\n",
       "    <tr>\n",
       "      <td>5</td>\n",
       "      <td>8 days</td>\n",
       "      <td>19.712444</td>\n",
       "      <td>4.439870</td>\n",
       "      <td>3.797156</td>\n",
       "      <td>0.090419</td>\n",
       "      <td>0.259740</td>\n",
       "    </tr>\n",
       "    <tr>\n",
       "      <td>6</td>\n",
       "      <td>9 days</td>\n",
       "      <td>16.992775</td>\n",
       "      <td>4.122229</td>\n",
       "      <td>3.516138</td>\n",
       "      <td>0.081163</td>\n",
       "      <td>0.329545</td>\n",
       "    </tr>\n",
       "    <tr>\n",
       "      <td>7</td>\n",
       "      <td>10 days</td>\n",
       "      <td>16.614455</td>\n",
       "      <td>4.076083</td>\n",
       "      <td>3.560815</td>\n",
       "      <td>0.079835</td>\n",
       "      <td>0.287879</td>\n",
       "    </tr>\n",
       "    <tr>\n",
       "      <td>8</td>\n",
       "      <td>11 days</td>\n",
       "      <td>17.192304</td>\n",
       "      <td>4.146360</td>\n",
       "      <td>3.789304</td>\n",
       "      <td>0.085759</td>\n",
       "      <td>0.164773</td>\n",
       "    </tr>\n",
       "    <tr>\n",
       "      <td>9</td>\n",
       "      <td>12 days</td>\n",
       "      <td>18.188961</td>\n",
       "      <td>4.264852</td>\n",
       "      <td>3.980853</td>\n",
       "      <td>0.092178</td>\n",
       "      <td>0.038961</td>\n",
       "    </tr>\n",
       "  </tbody>\n",
       "</table>\n",
       "</div>"
      ],
      "text/plain": [
       "  horizon        mse      rmse       mae      mape  coverage\n",
       "0  3 days  14.811560  3.848579  3.104956  0.065367  0.500000\n",
       "1  4 days  16.454107  4.056366  3.366318  0.072072  0.434343\n",
       "2  5 days  14.399782  3.794705  3.189261  0.071051  0.344156\n",
       "3  6 days  15.368722  3.920296  3.315506  0.076994  0.255682\n",
       "4  7 days  17.531962  4.187119  3.585905  0.084684  0.215909\n",
       "5  8 days  19.712444  4.439870  3.797156  0.090419  0.259740\n",
       "6  9 days  16.992775  4.122229  3.516138  0.081163  0.329545\n",
       "7 10 days  16.614455  4.076083  3.560815  0.079835  0.287879\n",
       "8 11 days  17.192304  4.146360  3.789304  0.085759  0.164773\n",
       "9 12 days  18.188961  4.264852  3.980853  0.092178  0.038961"
      ]
     },
     "execution_count": 32,
     "metadata": {},
     "output_type": "execute_result"
    }
   ],
   "source": [
    "#CALCULANDO A PERFORMANCE\n",
    "\n",
    "from fbprophet.diagnostics import performance_metrics\n",
    "\n",
    "Performance=performance_metrics(Predict2)\n",
    "\n",
    "Performance.head(10)"
   ]
  },
  {
   "cell_type": "markdown",
   "metadata": {},
   "source": [
    "# Conclusões e materiais adicionais\n",
    "\n",
    "Por fim, podemos notar que o Facebook Prophet é uma ferramenta muito útil para a análise de Séries Temporais pois, além de demonstrar elevado controle com a sazonalidade e tendências, também demonstra uma gama gigantesca de funções úteis para vizualizar, analisar e metrificar dados e predições. Aqui embaixo temos alguns guias úteis para a utilização dessa ferramenta assim como para o aprofundamento nesse tópico.\n",
    "\n",
    "* Site explicatório do próprio Prophet: (https://facebook.github.io/prophet/docs/quick_start.html)\n",
    "\n",
    "\n",
    "* Paper dos criadores do método: (https://peerj.com/preprints/3190.pdf)\n",
    "\n",
    "\n",
    "* Time Series Forecasting with Prophet: (https://xang1234.github.io/prophet/)\n",
    "\n",
    "\n",
    "* Texto do Towards Data Science: (https://towardsdatascience.com/predicting-the-future-with-facebook-s-prophet-bdfe11af10ff)\n",
    "\n",
    "\n",
    "* Repositório GitHub do próprio Facebook: (https://github.com/facebook/prophet)"
   ]
  },
  {
   "cell_type": "code",
   "execution_count": null,
   "metadata": {},
   "outputs": [],
   "source": []
  }
 ],
 "metadata": {
  "kernelspec": {
   "display_name": "Python 3",
   "language": "python",
   "name": "python3"
  },
  "language_info": {
   "codemirror_mode": {
    "name": "ipython",
    "version": 3
   },
   "file_extension": ".py",
   "mimetype": "text/x-python",
   "name": "python",
   "nbconvert_exporter": "python",
   "pygments_lexer": "ipython3",
   "version": "3.7.4"
  }
 },
 "nbformat": 4,
 "nbformat_minor": 2
}
