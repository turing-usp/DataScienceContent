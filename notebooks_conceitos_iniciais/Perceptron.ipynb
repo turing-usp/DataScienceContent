{
 "cells": [
  {
   "cell_type": "markdown",
   "metadata": {},
   "source": [
    "![HEAD](https://gistcdn.githack.com/Gbecdox/26d1595c87bb09f53ef9fb4b8fb48849/raw/9b50282b44a15bf95dbffa6f44346865427f4fd7/HeaderPERCEP.svg)"
   ]
  },
  {
   "cell_type": "markdown",
   "metadata": {},
   "source": [
    "#  Introdução"
   ]
  },
  {
   "cell_type": "markdown",
   "metadata": {},
   "source": [
    "Nesse notebook trabalharemos:\n",
    "\n",
    "* Separação linear, ideia intuitiva e definição formal.\n",
    "* Estrutura (\"organização interna\") e mecanismo de aprendizado do *perceptron*.\n",
    "* Aplicação do modelo e visualização dos resultados, ambas por meio de bibliotecas auxiliares.\n",
    "* Diferenciações do modelo ao longo do tempo.\n",
    "\n",
    "Para o entendimento do conteúdo, recomenda-se, além de uma noção básica das \"bibliotecas fundamentais\", algum entendimento de Geometria Analítica (essencialmente, vetores e produto escalar). Abaixo, importaremos as bibliotecas que serão utilizadas ao longo do notebook como um todo, reservando a importação das demais para o momento de seu uso."
   ]
  },
  {
   "cell_type": "code",
   "execution_count": 1,
   "metadata": {},
   "outputs": [],
   "source": [
    "import pandas as pd\n",
    "import numpy as np\n",
    "import matplotlib.pyplot as plt\n",
    "import seaborn as sns\n",
    "\n",
    "%matplotlib inline"
   ]
  },
  {
   "cell_type": "code",
   "execution_count": 2,
   "metadata": {},
   "outputs": [],
   "source": [
    "sns.set() # Garante a exibição dos plots com a aparência padrão da biblioteca Seaborn."
   ]
  },
  {
   "cell_type": "markdown",
   "metadata": {},
   "source": [
    "# Perceptron"
   ]
  },
  {
   "cell_type": "markdown",
   "metadata": {},
   "source": [
    "O *perceptron* é um algoritmo que, através de aprendizado supervisionado, atua como um classificador binário (dada uma regra — um método de separação — agrupam-se os dados em dois conjuntos). Mais especificamente, o *perceptron* é ideal para ser utilizado quando os agrupamentos são **linearmente separáveis**."
   ]
  },
  {
   "cell_type": "markdown",
   "metadata": {},
   "source": [
    "## Separação linear"
   ]
  },
  {
   "cell_type": "markdown",
   "metadata": {},
   "source": [
    "<img align=\"left\" width=\"500\" src=\"https://i.ibb.co/3hzCqzX/Gr-ficos.png\">"
   ]
  },
  {
   "cell_type": "markdown",
   "metadata": {},
   "source": [
    "De forma direta e ilustrativa, no **Gráfico 1** temos pelo menos uma reta que sozinha separa satisfatoriamente os dois tipos de marcadores (portanto, temos conjuntos linearmente separáveis); já no **Gráfico 2** isso não ocorre (portanto, da forma como estão dispostos, os conjuntos não são linearmente separáveis). Vale ressaltar que o caso anterior é, na verdade, uma simplificação bidimensional do problema: ainda que rapidamente, veremos  que a separação linear é um conceito que não se limita aos espaços bidimensionais."
   ]
  },
  {
   "cell_type": "markdown",
   "metadata": {},
   "source": [
    "### Um aprofundamento"
   ]
  },
  {
   "cell_type": "markdown",
   "metadata": {},
   "source": [
    "Possuímos algumas alternativas para definir formalmente a separação linear, note que embora não seja imprescindível compreender esses pormenores, entedê-los nos ajuda a pensar além do caso particular (citado a cima). Vejamos a primeira definição:\n",
    "\n",
    "> Dois conjuntos $X_0,\\ X_1 \\subset \\mathbb{R}^n$ são linearmente separáveis se existir pelo menos um hiperplano que os separem.\n",
    "\n",
    "Não complicaremos ainda mais as coisas, mas um [hiperplano](https://en.wikipedia.org/wiki/Hyperplane) é, basicamente, um subespaço que possui uma dimenção a menos do que o espaço no qual ele se encontra. Ou seja, assim como a reta é o hiperplano que separava os marcadores a cima, o plano da figura abaixo é o hiperplano que separa os pontos no espaço tridimensional.\n",
    "\n",
    "<img align=\"left\" width=\"250\" src=\"https://i.ibb.co/K57b4R6/Linear-Separability.png\">"
   ]
  },
  {
   "cell_type": "markdown",
   "metadata": {},
   "source": [
    "***\n",
    "**Observação:** no campo de *machine learning*, chamamos esse lugar geométrico de ***decision boundary***. Ele é o responsável pela fragmentação do espaço em duas regiões, cada qual representativa de uma classe.\n",
    "***"
   ]
  },
  {
   "cell_type": "markdown",
   "metadata": {},
   "source": [
    "Equivalentemente, mas agora de forma algébrica, temos:\n",
    "\n",
    "> Dois conjuntos $X_0,\\ X_1 \\subset \\mathbb{R}^n$ são linearmente separáveis se existirem $w \\in \\mathbb{R}^n$ e $k \\in \\mathbb{R}$ tais que:\n",
    ">\n",
    "> $\\forall x \\in X_0:\\ x^T \\cdot w < k$ <br>\n",
    "> $\\forall x \\in X_1:\\ x^T \\cdot w > k$\n",
    "\n",
    "Na qual \"$\\cdot$\" denota o produto escalar e \"$x^T$\" um vetor linha (a transposição de um vetor coluna). Embora possa parecer sobremaneira sofisticada, essa segunda forma simplifica muito as coisas, pois remove a necessidade de um recurso visual (e.g. um plano ou uma reta). Vamos criar um exemplo abaixo caso você queira entender a fórmula na prática."
   ]
  },
  {
   "cell_type": "markdown",
   "metadata": {},
   "source": [
    "**Exemplo**\n",
    "\n",
    "Começaremos visualizando dois conjuntos linearmente separáveis em um gráfico, no nosso caso fictício: o número de horas estudadas pela nota obtida em uma prova para duas turmas de alunos (**A** e **B**). Vejamos:"
   ]
  },
  {
   "cell_type": "code",
   "execution_count": 3,
   "metadata": {},
   "outputs": [
    {
     "data": {
      "text/plain": [
       "Text(3.5, 3.5, 'Turma B')"
      ]
     },
     "execution_count": 3,
     "metadata": {},
     "output_type": "execute_result"
    },
    {
     "data": {
      "image/png": "[encoded data removed]",
      "text/plain": [
       "<Figure size 432x288 with 1 Axes>"
      ]
     },
     "metadata": {},
     "output_type": "display_data"
    }
   ],
   "source": [
    "plt.scatter([1, 1, 2], [1, 2, 2], marker=\"D\")                # Plota três pontos com o marcador 'diamante' na cor padrão (Turma A).\n",
    "plt.scatter([3, 4, 4], [3, 3, 4], color=\"green\", marker=\"x\") # Plota três pontos com o marcador 'X' na cor verde (Truma B).\n",
    "\n",
    "plt.title(\"Desempenho por horas de estudo\") # Título do gráfico.\n",
    "plt.xlabel(\"Nota na prova\")                 # Legenda do eixo x.\n",
    "plt.ylabel(\"Horas estudadas\")               # Legenda do eixo y.\n",
    "\n",
    "plt.text(1.5, 1.5, \"Turma A\", ha=\"center\") # Escreve 'Turma A' centralizado em (1.5,1.5).\n",
    "plt.text(3.5, 3.5, \"Turma B\", ha=\"center\") # Escreve 'Turma B' centralizado em (3.5,3.5)."
   ]
  },
  {
   "cell_type": "markdown",
   "metadata": {},
   "source": [
    "Apesar da figura a cima, nosso objetivo é provar algebricamente a separação linear. Assim sendo, agora que temos os *data points* de forma clara, conseguiremos determinar os vetores facilmente, a começar por **A**:\n",
    "\n",
    "$a_1 = [1,\\ 1]$ <br>\n",
    "$a_2 = [1,\\ 2]$ <br>\n",
    "$a_3 = [2,\\ 2]$\n",
    "\n",
    "E, em seguida, **B**:\n",
    "\n",
    "$b_1 = [3,\\ 3]$ <br>\n",
    "$b_2 = [4,\\ 3]$ <br>\n",
    "$b_3 = [4,\\ 4]$\n",
    "\n",
    "Como nosso *dataset* é extremamente simples, não precisaremos de nada elaborado para o vetor $w$. Na verdade, se por hipótese fizermos $w = [1, 1]$ bastaria provar que $k$ existe e é um número real para comprovarmos que os dados são linearmente separáveis. Bom, vamos fazer isso:\n",
    "\n",
    "$a_1 \\cdot w = 1 + 1 = 2$ <br>\n",
    "$a_2 \\cdot w = 1 + 2 = 3$ <br>\n",
    "$a_3 \\cdot w = 2 + 2 = 4$\n",
    "\n",
    "$b_1 \\cdot w = 3 + 3 = 6$ <br>\n",
    "$b_2 \\cdot w = 4 + 3 = 7$ <br>\n",
    "$b_3 \\cdot w = 4 + 4 = 8$\n",
    "\n",
    "Como já sabemos, $k$ deve ser maior do que todos os produtos escalares para o conjunto **A**, e menor do que todos eles para o conjunto **B**, portanto:\n",
    "\n",
    "$4 < k <6$\n",
    "\n",
    "Pronto! Dessa forma comprovamos algebricamente que **A** e **B** são dois conjuntos linearmente separáveis. Por fim, perceba apenas que seguimos esse caminho (determinar um $w$ qualquer e verificar se para ele existia um $k$) por uma mera escolha pessoal."
   ]
  },
  {
   "cell_type": "markdown",
   "metadata": {},
   "source": [
    "## Estrutura"
   ]
  },
  {
   "cell_type": "markdown",
   "metadata": {},
   "source": [
    "Apresentamos aqui a separação linear pois ela introduz conceitos importantes para o entendimento de modelos complexos, sendo a base do funcionamento de um *perceptron*, como já citado. Mas como sabemos que você não necessariamente está habituado(a) ao produto escalar, passaremos a ver o processo sob uma nova e equivalente óptica: a do somatório. Podemos reescrever a definição anterior como:\n",
    "\n",
    "> Dois conjuntos $X_0,\\ X_1 \\subset \\mathbb{R}^n$ são linearmente separáveis se existirem $w \\in \\mathbb{R}^n$ e $k \\in \\mathbb{R}$ tais que:\n",
    ">\n",
    "> $\\displaystyle \\forall x \\in X_0: \\sum_{i=1}^n w_ix_i < k$\n",
    ">\n",
    "> $\\displaystyle \\forall x \\in X_1: \\sum_{i=1}^n w_ix_i > k$\n",
    ">\n",
    "> Na qual $w_i$ e $x_i$ são a $i$-ésima componente de, respectivamente, $w$ e $x$.\n",
    "\n",
    "O que fizemos aqui foi simplesmente desenvolver o produto escalar para dois vetores genéricos: $w = [w_1,\\ w_2,\\ ...,\\ w_n]$ e $x = [x_1,\\ x_2,\\ ...,\\ x_n]$, por outros termos, multiplicamos a primeira componente de $w$ pela primeira componente de $x$ (tem-se $w_1x_1$); a segunda componente de $w$ pela segunda componente de $x$ (tem-se $w_2x_2$); assim sucessivamente. Ao final, somamos o resultado de cada um desses produtos, eis então o porquê do somatório. A esse processo damos o nome \"**soma ponderada**\", pois cada $w_i$ é um peso (*weight*) aplicado a um valor de entrada.\n",
    "\n",
    "Compreendido isso, a nossa motivação passa a ser estruturar esse classificador, então sejamos razoáveis: é esperado que ao passar alguns dados ao *perceptron* ele nos retorne um valor binário (0 ou 1) que informe a qual grupo o *data point* em questão pertence. \n",
    "\n",
    "**Exemplo:** dadas massa de um carro e potência máxima de seu motor, ele retornará se o modelo é um esportivo ou não."
   ]
  },
  {
   "cell_type": "markdown",
   "metadata": {},
   "source": [
    "<img align=\"left\" width=\"300\" src=\"https://i.ibb.co/ChMv6pP/Perceptron1.png\">"
   ]
  },
  {
   "cell_type": "markdown",
   "metadata": {},
   "source": [
    "No diagrama, $x_1$ e $x_2$ são os ***inputs*** que passamos ao *perceptron* **P** — utilizamos apenas dois termos para simplificar a explicação, mas como bem vimos podemos ter $n$ componentes. Já $y$ é o ***output*** retornado pelo algoritmo. Então, assim como acabamos de explicar, cada *input* é associado a um peso, usualmente os representamos nas ligações do diagrama:"
   ]
  },
  {
   "cell_type": "markdown",
   "metadata": {},
   "source": [
    "<img align=\"left\" width=\"300\" src=\"https://i.ibb.co/tL3L5nN/Perceptron2.png\">"
   ]
  },
  {
   "cell_type": "markdown",
   "metadata": {},
   "source": [
    "Recebidos *weights* e *inputs*, o *perceptron* passa a realizar os cálculos, mas ainda temos um problema: tanto $x_1$ e $x_2$, quanto $w_1$ e $w_2$ podem assumir quaisquer valores, consequentemente, os produtos $w_1x_1$ e $w_2x_2$ também. Como então o nosso algoritmo possui uma saída binária? Novamente, por meio de um mecanismo semelhante ao trabalhado na separação linear: lá, para um dado $k$ — contido no intervalo que determinamos — somente eram possíveis duas saídas, isto é, \n",
    "\n",
    "* o marcador \"diamante azul\" (valores menores do que $k$), ou \n",
    "* o marcador \"X verde\" (valores maiores do que $k$).\n",
    "\n",
    "Tal qual um filtro, o *perceptron* compara o resultado da soma ponderada com um **limiar** (um valor limite) e classifica a qual grupo pertence o *input*. Estaremos utilizando $T \\in \\mathbb{R}$ (*threshold*, do inglês) como nosso limiar.\n",
    "\n",
    "**Exemplo:** se a soma ponderada for menor do que o limiar $T$ ou igual a ele, retornar-se-á 0; se maior, 1."
   ]
  },
  {
   "cell_type": "markdown",
   "metadata": {},
   "source": [
    "<img align=\"left\" width=\"360\" src=\"https://i.ibb.co/hWzsy2B/Perceptron3.png\">"
   ]
  },
  {
   "cell_type": "markdown",
   "metadata": {},
   "source": [
    "Temos a cima que **f** é uma função boolena (especificamente, uma *threshold function*) que recebe o resultado da soma ponderada (qualquer que seja ele) e produz uma de duas possíveis saídas. Matematicamente, descrevemo-la por:\n",
    "\n",
    "$f(u) = \\begin{cases} 1,\\ \\ \\ \\ se\\ \\ u > T \\\\\n",
    "                      0,\\ \\ \\ \\ se\\ \\ u \\leq T \\end{cases};\\ \\forall u \\in \\mathbb{R}$\n",
    "\n",
    "Embora estejamos finalmente atingindo nossos objetivos, precisamos nos atentar a um caso particular: todos os *inputs* iguais a zero. Basicamente, se temos $x_1=x_2=0$ a soma ponderada também resultará (para quaisquer pesos) em zero. No nosso caso, por meio do limiar ainda iremos consguir estabelecer a saída desejada — basta verificar que o *output* ainda é dependente de $T$ fazendo $f(0)$ — todavia, nós conhecemos uma otimização indispensável: o ***bias***.\n",
    "\n",
    "Vamos lá, sendo $S$ a soma ponderada, nós já sabemos que:\n",
    "\n",
    "$f(S) = \\begin{cases} 1,\\ \\ \\ \\ se\\ \\ S > T \\\\\n",
    "                      0,\\ \\ \\ \\ se\\ \\ S \\leq T \\end{cases}$\n",
    "                      \n",
    "Equivalentemente, subtraindo $T$ de ambos os lados das duas inequações, ficamos com:\n",
    "\n",
    "$f(S) = \\begin{cases} 1,\\ \\ \\ \\ se\\ \\ S - T > 0 \\\\\n",
    "                      0,\\ \\ \\ \\ se\\ \\ S - T \\leq 0 \\end{cases}$\n",
    "                      \n",
    "Sem prejuízo, podemos fazer $b=-T$ e teremos ao final:\n",
    "\n",
    "$f(S) = \\begin{cases} 1,\\ \\ \\ \\ se\\ \\ S + b > 0 \\\\\n",
    "                      0,\\ \\ \\ \\ se\\ \\ S + b \\leq 0 \\end{cases}$\n",
    "                      \n",
    "Com esses passos nós explicitamos $b$: um número real que independe do somatório (não sendo, portanto, zerado pelo caso particular que citamos). Além disso, todas as nossas comparações agora passam a ser feitas com o zero, simplificando a escrita do código. Chamando essa nova função limiar (que agora faz a comparação com o zero) de **h**, teremos no diagrama:\n",
    "\n",
    "<img align=\"left\" width=\"400\" src=\"https://i.ibb.co/j37BvgW/Perceptron4.png\">"
   ]
  },
  {
   "cell_type": "markdown",
   "metadata": {},
   "source": [
    "Mas não paramos por aí, o *bias* é por diversas vezes tido como um \"peso independente\", por outros termos, um \"*weight*\" que não está relacionado a um *input*. Essa ideia tem sua origem justificada pela figura abaixo: ao acrescentar o valor $1$ como um \"*input* de ordem 0\" ($x_0=1$) e $b$ como seu peso, fazemos com que o produto $x_0w_0$ passe a depender somente desse último termo, podendo até mesmo ser retirado da expressão de somatório. Nessa última modificação, a grande vantagem é permitir que o próprio algoritmo determine o *bias* sem nenhum procedimento extra, afinal, ele já determina todos os outros pesos."
   ]
  },
  {
   "cell_type": "markdown",
   "metadata": {},
   "source": [
    "<img align=\"left\" width=\"400\" src=\"https://i.ibb.co/JQBbHdM/Perceptron5.png\">"
   ]
  },
  {
   "cell_type": "markdown",
   "metadata": {},
   "source": [
    "Em suma, nós concluímos a estruturação do nosso *perceptron*. Por hora, ressaltamos novamente que, embora as duas imagens acima pareçam iguais, somente na última o *bias* é um número variável determinado automaticamente e de forma prática. \n",
    "\n",
    "Por fim, como já bem trabalhamos, o algoritmo do *perceptron* é, de fato, uma função quando tomado em sua completude. Destarte, explicitamos ela em sua forma vetorial logo abaixo, com o produto escalar novamente denotado por \"$\\cdot$\".\n",
    "\n",
    "$P(x) = \\begin{cases} 1,\\ \\ \\ \\ se\\ \\ w \\cdot x + b > 0 \\\\\n",
    "                      0,\\ \\ \\ \\ se\\ \\ w \\cdot x + b \\leq 0 \\end{cases}$\n",
    "\n",
    "Na qual:\n",
    "\n",
    "* $x = [x_1,\\ x_2,\\ x_3,\\ ...,\\ x_n]$ é o vetor composto pelos dados de entrada (*inputs*).\n",
    "* $w = [w_1,\\ w_2,\\ w_3,\\ ...,\\ w_n]$ é o vetor composto pelos pesos de cada dado de entrada (*weights*).\n",
    "* $b \\in \\mathbb{R}$ é o viés (*bias*)."
   ]
  },
  {
   "cell_type": "markdown",
   "metadata": {},
   "source": [
    "## Aprendizado"
   ]
  },
  {
   "cell_type": "markdown",
   "metadata": {},
   "source": [
    "Compreendida a forma como um *perceptron* se organiza internamente, agora nos dedicaremos a entender o seu mecanismo de funcionamento, mais uma vez introduzindo conceitos fundamentais para inúmeros modelos de *machine learning*. Desde já, ressaltaremos alguns: \n",
    "\n",
    "* dizer que vamos \"treinar\" um algoritmo significa dizer que o faremos procurar pelos valores que melhor se ajustam a cada parâmetro, ou seja, aqueles que implicam o menor **erro**. Sinteticamente, é nisso que se concentra o processo de aprendizagem;\n",
    "\n",
    "* o **erro** é parte indispensável do processo e, por definição matemática, temos\n",
    "> $erro\\ (e) = valor\\ desejado\\ (d) - valor\\ estimado\\ (y)$\n",
    "\n",
    "Bom, então por onde começar? Antes de tudo, precisamos ter os dados de entrada e já garantir que o valor **1** tenha sido adicionado a eles como o primeiro *input* ($x_0=1$). Em seguida, precisaremos inicializar os pesos e, consequentemente, o *bias* — não entraremos nos pormenores do processo, mas podemos atribuir a eles o valor zero, por exemplo. Feito isso, caímos em um ponto crucial do aprendizado do nosso algoritmo: tratando-se de *supervised learning*, as respostas corretas estarão disponíveis e as saídas erradas pertencerão a um dos dois grupos a seguir.\n",
    "\n",
    "* **Falso-positivo**: o *perceptron* respondeu 1 quando o valor real (desejado) era 0.\n",
    "* **Falso-negativo**: o *perceptron* respondeu 0 quando o valor real (desejado) era 1."
   ]
  },
  {
   "cell_type": "markdown",
   "metadata": {},
   "source": [
    "### Pesos"
   ]
  },
  {
   "cell_type": "markdown",
   "metadata": {},
   "source": [
    "Incorrendo em um erro, o próximo passo do nosso algoritmo consite em modificar os pesos de tal sorte que a \n",
    "resposta passe a ser correta, entra aí a ***update rule***. Temos algumas formas de expressá-la matematicamente, aqui, escreveremos a equação para um dado vetor $w$ explicitando o fator \"tempo\".\n",
    "\n",
    "> $w_i(t+1) = w_i(t) + x_i*(d - y)$\n",
    "\n",
    "Como os *weights* não são necessariamente constantes (i.e., são atualizados conforme o algoritmo aprende), designamos por $w_i(t)$ o valor da $i$-ésima componente de $w$ no tempo $t$ e, consequentemente, por $w_i(t+1)$ seu valor no instante da próxima atualização.\n",
    "\n",
    "Além disso, nessa fórmula temos:\n",
    "\n",
    "* $d$ e $y$, novamente como o *output* desejado e o obtido, respectivamente;\n",
    "* $x_i$, como valor da $i$-ésima componente do vetor *input* $x$.\n",
    "\n",
    "Agora, embora a ideia intuitiva de que os pesos indiquem o quanto um determinado *input* importa na determinação do *output* possa ser suficiente, existe ainda um princípio algébrico pertinente. A leitura abaixo é então um aprofundamento em Álgebra Linear destinado a justificar alguns conceitos e demonstrar a *update rule*."
   ]
  },
  {
   "cell_type": "markdown",
   "metadata": {},
   "source": [
    "### Pesos: um aprofundamento em Álgebra Linear"
   ]
  },
  {
   "cell_type": "markdown",
   "metadata": {},
   "source": [
    "Se considerarmos o $\\mathbb{R}^3$, isto é, o espaço euclidiano de três dimensões, sabemos que nele a equação de um plano será dada por:\n",
    "\n",
    "$(a,\\ b,\\ c) \\cdot (x-x_0,\\ y-y_0,\\ z-z_0) = 0$\n",
    "\n",
    "Em que $(a,\\ b,\\ c)$ é o vetor normal ao plano e $(x_0,\\ y_0,\\ z_0)$ é um ponto a ele pertencente. Desenvolvendo essa expressão, chegaremos na equação geral:\n",
    "\n",
    "$ax+by+cz=d$\n",
    "\n",
    "Com $d \\in R$. Mas agora vamos propor um exercício: chamemos $x$, $y$ e $z$ respectivamente de $x_1$, $x_2$ e $x_3$ (afinal essas são as dimensões do nosso espaço); assim como os coeficientes $a$, $b$ e $c$ de $w_1$, $w_2$ e $w_3$. Ficaremos com:\n",
    "\n",
    "$w_1x_1+w_2x_2+w_3x_3=d$\n",
    "\n",
    "O que nós temos aqui é a soma ponderada com a qual sempre viemos trabalhando. Obviamente, não fizemos isso à toa: queremos demonstrar aqui que $w=[w_1,\\ w_2,\\ w_3]$ é o vetor normal ao (nesse caso) plano que chamamos de *decision boundary*. Para ilustrar isso melhor, vamos voltar ao caso 2D.\n",
    "\n",
    "#### Exemplo\n",
    "\n",
    "Ao longo dessa explicação trabalharemos com um exemplo que auxilie no entendimento do que mostramos acima. Para isso, estabeleceremos primeiro os vetores de entrada e, em seguida, as saídas desejadas (haja vista que, tratando-se de *supervised learning*, temos acesso às respostas corretas).\n",
    "\n",
    "**Primeira entrada:** $a = [1\\ 2]$ <br>\n",
    "**Saída desejada:** $1$\n",
    "\n",
    "**Segunda entrada:** $b = [-1\\ 2]$ <br>\n",
    "**Saída desejada:** $0$\n",
    "\n",
    "**Terceira entrada:** $c = [0\\ -1]$ <br>\n",
    "**Saída desejada:** $0$\n",
    "\n",
    "Graficamente:\n",
    "\n",
    "<img align=\"left\" width=\"230\" src=\"https://i.ibb.co/v4tWrBS/Pesos0.png\">"
   ]
  },
  {
   "cell_type": "markdown",
   "metadata": {},
   "source": [
    "Como primeira alternativa, vamos definir $w(t)=[1\\ -0.8]$ como nosso vetor peso no instante inicial (suponhamos que suas componentes foram determinadas aleatoriamente). Além disso, o *bias* será nulo ($b=0$) — obrigando a *decision boundary* a conter a origem do sistema de coordenadas — para simplificar o exemplo. Assim sendo:\n",
    "\n",
    "<img align=\"left\" width=\"240\" src=\"https://i.ibb.co/zSHxSHd/Pesos1.png\">"
   ]
  },
  {
   "cell_type": "markdown",
   "metadata": {},
   "source": [
    "Note que não nos preocupamos em representar $w(t)$ em escala pois o módulo dele é indiferente para a análise — somente sua direção já nos informa o local em que devemos traçar a fronteira de decisão. Como é visível acima, a primeira entrada já não possui a saída desejada. Verifique:\n",
    "\n",
    "$w(t) \\cdot a = [1\\ -0.8] \\cdot [1\\ 2] = -0.6 < 0$ \n",
    "\n",
    "$\\therefore P(a) = 0 \\ne 1$\n",
    "\n",
    "Precisamos então atualizar o valor de $w(t)$ para que ele aponte em uma direção mais próxima daquela definida por $[1\\ 2]$, assim garantiremos que $a$ será incluído na região correta do plano. Para isso, podemos somar $a$ e $w(t)$, pois o vetor resultante (i.e., o novo peso) terá uma [direção mais próxima](https://i.ibb.co/jrgF2kR/Soma.png) de $a$ do que $w(t)$ possuía, ou seja: o ângulo entre $a$ e $w(t)$ é maior do que o ângulo entre $a$ e $w(t)+a$.\n",
    "\n",
    "$w(t+1) = w(t) + a$\n",
    "\n",
    "$w(t+1) = [1\\ -0.8] + [1\\ 2] = [2\\ 1.2]$\n",
    "\n",
    "Graficamente, temos agora:\n",
    "\n",
    "<img align=\"left\" width=\"240\" src=\"https://i.ibb.co/GWzpJ0F/Pesos2.png\">"
   ]
  },
  {
   "cell_type": "markdown",
   "metadata": {},
   "source": [
    "Então encontramos um novo problema: é para a segunda entrada que passamos a ter uma classificação errada. Verifique:\n",
    "\n",
    "$w(t+1) \\cdot b = [2\\ 1.2] \\cdot [-1\\ 2] = 0.4 > 0$ \n",
    "\n",
    "$\\therefore P(a) = 1 \\ne 0$\n",
    "\n",
    "Bom, quando obtivemos um falso-negativo — \"*0 no lugar de 1*\" — somamos o peso e o vetor de entrada para que o vetor resultante fosse mais **próximo** do *input*. Analogamente, para esse falso-positivo, desejamos **afastar** o \"vetor resultante\" (o novo peso) do vetor de entrada, então nada mais justo do que [subtrair](https://i.ibb.co/k2Y58tm/Sub.png) $b$ e $w(t+1)$.\n",
    "\n",
    "$w(t+2) = w(t+1) - b$\n",
    "\n",
    "$w(t+2) = [2\\ 1.2] - [-1\\ 2] = [3\\ -0.8]$\n",
    "\n",
    "No gráfico:\n",
    "\n",
    "<img align=\"left\" width=\"240\" src=\"https://i.ibb.co/F7nBBdY/Pesos3.png\">"
   ]
  },
  {
   "cell_type": "markdown",
   "metadata": {},
   "source": [
    "Finalmente, basta apenas aplicar essa mesma lógica para a última entrada. Verificação de que sua classificação está errada:\n",
    "\n",
    "$w(t+2) \\cdot c = [3\\ -0.8] \\cdot [0\\ -1] = 0.8 > 0$ \n",
    "\n",
    "$\\therefore P(a) = 1 \\ne 0$\n",
    "\n",
    "Atualização do peso (para um falso-positivo):\n",
    "\n",
    "$w(t+3) = w(t+2) - c$\n",
    "\n",
    "$w(t+3) = [3\\ -0.8] - [0\\ -1] = [3\\ 0.2]$\n",
    "\n",
    "Graficamente:\n",
    "\n",
    "<img align=\"left\" width=\"240\" src=\"https://i.ibb.co/ZXPvkDR/Pesos4.png\">"
   ]
  },
  {
   "cell_type": "markdown",
   "metadata": {},
   "source": [
    "Pronto! Finalmente podemos visualizar que a *decision boundary* foi determinada corretamente. Dependendo do número de ***epochs*** (isto é, a quantidade de vezes que o *dataset* é lido por completo) nosso algoritmo poderá continuar verificando as entradas. Vamos fazer isso para a primeira e verificar que o resultado desejado é também o obtido.\n",
    "\n",
    "$w(t+3) \\cdot a = [3\\ -0.8] \\cdot [1\\ 2] = 1.4 > 0$ \n",
    "\n",
    "$\\therefore P(a) = 1$\n",
    "\n",
    "Como de fato a primeira entrada \"pertence ao grupo 1\" o peso é mantido igual, ou seja:\n",
    "\n",
    "$w(t+4) = w(t+3)$\n",
    "\n",
    "$w(t+4) = [3\\ 0.2]$\n",
    "\n",
    "#### Generalização\n",
    "\n",
    "Relembrando que:\n",
    "\n",
    "$erro\\ (e) = valor\\ desejado\\ (d) - valor\\ estimado\\ (y)$\n",
    "\n",
    "Podemos inferir:\n",
    "\n",
    "<img align=\"left\" width=\"400\" src=\"https://i.ibb.co/R7pqK8r/Tabela-Casos.png\">"
   ]
  },
  {
   "cell_type": "markdown",
   "metadata": {},
   "source": [
    "E, consoante ao que foi trabalhado ao longo do exemplo, demonstramos que:\n",
    "\n",
    "$e = 1 \\Rightarrow w(t+1) = w(t) + x$ <br>\n",
    "$e = -1 \\Rightarrow w(t+1) = w(t) - x$ <br>\n",
    "$e = 0 \\Rightarrow w(t+1) = w(t)$ \n",
    "\n",
    "Com $x$ sendo o vetor de entrada. Ora, atentando-se para o **erro** e para o **número que multiplica** $x$, é visível que:\n",
    "\n",
    "$e = 1 \\Rightarrow w(t+1) = w(t) + (1) * x$ <br>\n",
    "$e = -1 \\Rightarrow w(t+1) = w(t) + (-1) * x$ <br>\n",
    "$e = 0 \\Rightarrow w(t+1) = w(t) + (0) * x$\n",
    "\n",
    "Ou simplesmente:\n",
    "\n",
    "> $w(t+1) = w(t) + e * x$\n",
    "\n",
    "Pronto, justificamos então a fórmula unificada para a ***update rule*** (ou *learning rule*) utilizada por um *perceptron*."
   ]
  },
  {
   "cell_type": "markdown",
   "metadata": {},
   "source": [
    "***\n",
    "**Observação:** toda essa demonstração que trouxemos aqui foi profundamente baseada no quarto capítulo da segunda edição do livro [Neural Network Design](http://hagan.okstate.edu/nnd.html). Nesse mesmo capítulo ainda se encontra o \"teorema de convergência do *perceptron*\", esse, mesmo não sendo abordado aqui, é uma prova de que, se os pesos existirem, sempre será possível encontrá-los através da *learning rule* — por outros termos, dados linearmente separáveis sempre podem ser classificados com exatidão pelo *perceptron*.\n",
    "***"
   ]
  },
  {
   "cell_type": "markdown",
   "metadata": {},
   "source": [
    "## Implementação"
   ]
  },
  {
   "cell_type": "markdown",
   "metadata": {},
   "source": [
    "Finalmente iremos implementar e treinar um *perceptron*. Contudo, embora (em teoria) estejamos capacitados para escrever seu código \"do zero\", haja vista que estrutura e funcionamento são conhecidos, optaremos por um caminho menos árduo: [scikit-learn](https://scikit-learn.org/stable/)."
   ]
  },
  {
   "cell_type": "markdown",
   "metadata": {},
   "source": [
    "### *Dataset*"
   ]
  },
  {
   "cell_type": "markdown",
   "metadata": {},
   "source": [
    "Com essa mesma biblioteca, iremos primeiro criar um *dataset* simples para a aplicação. A função que importamos abaixo é perfeita para isso: dado o número de observações e de *features*, podemos gerar diversos conglomerados de *data points*."
   ]
  },
  {
   "cell_type": "code",
   "execution_count": 4,
   "metadata": {},
   "outputs": [],
   "source": [
    "from sklearn.datasets import make_blobs # Importa a função make_blobs()."
   ]
  },
  {
   "cell_type": "markdown",
   "metadata": {},
   "source": [
    "Como de costume atribuíremos à variável `X` as *features* do *dataset* que temos para realizar a predição, enquanto para `y` o *target* (a variável a ser prevista)."
   ]
  },
  {
   "cell_type": "code",
   "execution_count": 5,
   "metadata": {},
   "outputs": [],
   "source": [
    "# Cria dois grupos ('centers=2') com um total de 400 amostras ('n_samples=400'), cada uma com duas features ('n_features=2').\n",
    "X, y = make_blobs(n_samples=400, centers=2, n_features=2, random_state=2, cluster_std=1.2) "
   ]
  },
  {
   "cell_type": "markdown",
   "metadata": {},
   "source": [
    "O desvio padrão desses grupos foi alterado através de `cluster_std=1.2`. Talvez ainda não esteja muito claro o que acabamos de fazer aqui (especialmente se é a primeira vez que utiliza essa função), mas basicamente:\n",
    "\n",
    "* `X` é uma *ndarray* com duas colunas e 400 linhas. Vamos considerar que a primeira coluna seja a abscissa de cada um dos 400 pontos e a segunda, suas ordenadas.\n",
    "* `y` é uma *ndarray* com uma coluna e 400 linhas. Composta toda por `0` e `1` indica a qual grupo cada um desses pontos pertence.\n",
    "\n",
    "Façamos as transformações necessárias para visualizarmos isso:"
   ]
  },
  {
   "cell_type": "code",
   "execution_count": 6,
   "metadata": {},
   "outputs": [
    {
     "data": {
      "text/html": [
       "<div>\n",
       "<style scoped>\n",
       "    .dataframe tbody tr th:only-of-type {\n",
       "        vertical-align: middle;\n",
       "    }\n",
       "\n",
       "    .dataframe tbody tr th {\n",
       "        vertical-align: top;\n",
       "    }\n",
       "\n",
       "    .dataframe thead th {\n",
       "        text-align: right;\n",
       "    }\n",
       "</style>\n",
       "<table border=\"1\" class=\"dataframe\">\n",
       "  <thead>\n",
       "    <tr style=\"text-align: right;\">\n",
       "      <th></th>\n",
       "      <th>Abscissas</th>\n",
       "      <th>Ordenadas</th>\n",
       "    </tr>\n",
       "  </thead>\n",
       "  <tbody>\n",
       "    <tr>\n",
       "      <th>0</th>\n",
       "      <td>0.658110</td>\n",
       "      <td>-8.970748</td>\n",
       "    </tr>\n",
       "    <tr>\n",
       "      <th>1</th>\n",
       "      <td>-0.601966</td>\n",
       "      <td>-2.188268</td>\n",
       "    </tr>\n",
       "    <tr>\n",
       "      <th>2</th>\n",
       "      <td>1.217075</td>\n",
       "      <td>-1.483667</td>\n",
       "    </tr>\n",
       "    <tr>\n",
       "      <th>3</th>\n",
       "      <td>-1.834508</td>\n",
       "      <td>-9.060409</td>\n",
       "    </tr>\n",
       "    <tr>\n",
       "      <th>4</th>\n",
       "      <td>-1.783282</td>\n",
       "      <td>-9.640270</td>\n",
       "    </tr>\n",
       "  </tbody>\n",
       "</table>\n",
       "</div>"
      ],
      "text/plain": [
       "   Abscissas  Ordenadas\n",
       "0   0.658110  -8.970748\n",
       "1  -0.601966  -2.188268\n",
       "2   1.217075  -1.483667\n",
       "3  -1.834508  -9.060409\n",
       "4  -1.783282  -9.640270"
      ]
     },
     "execution_count": 6,
     "metadata": {},
     "output_type": "execute_result"
    }
   ],
   "source": [
    "X = pd.DataFrame(X)                                            # Atualiza 'X' para um dataframe.\n",
    "X.rename(columns={0:\"Abscissas\", 1:\"Ordenadas\"}, inplace=True) # Altera o nome de cada coluna de 'X'.\n",
    "X.head()                                                       # Exibe as cinco primeiras linhas de 'X'."
   ]
  },
  {
   "cell_type": "code",
   "execution_count": 7,
   "metadata": {},
   "outputs": [
    {
     "data": {
      "text/html": [
       "<div>\n",
       "<style scoped>\n",
       "    .dataframe tbody tr th:only-of-type {\n",
       "        vertical-align: middle;\n",
       "    }\n",
       "\n",
       "    .dataframe tbody tr th {\n",
       "        vertical-align: top;\n",
       "    }\n",
       "\n",
       "    .dataframe thead th {\n",
       "        text-align: right;\n",
       "    }\n",
       "</style>\n",
       "<table border=\"1\" class=\"dataframe\">\n",
       "  <thead>\n",
       "    <tr style=\"text-align: right;\">\n",
       "      <th></th>\n",
       "      <th>Grupo</th>\n",
       "    </tr>\n",
       "  </thead>\n",
       "  <tbody>\n",
       "    <tr>\n",
       "      <th>0</th>\n",
       "      <td>0</td>\n",
       "    </tr>\n",
       "    <tr>\n",
       "      <th>1</th>\n",
       "      <td>1</td>\n",
       "    </tr>\n",
       "    <tr>\n",
       "      <th>2</th>\n",
       "      <td>1</td>\n",
       "    </tr>\n",
       "    <tr>\n",
       "      <th>3</th>\n",
       "      <td>0</td>\n",
       "    </tr>\n",
       "    <tr>\n",
       "      <th>4</th>\n",
       "      <td>0</td>\n",
       "    </tr>\n",
       "  </tbody>\n",
       "</table>\n",
       "</div>"
      ],
      "text/plain": [
       "   Grupo\n",
       "0      0\n",
       "1      1\n",
       "2      1\n",
       "3      0\n",
       "4      0"
      ]
     },
     "execution_count": 7,
     "metadata": {},
     "output_type": "execute_result"
    }
   ],
   "source": [
    "y = pd.DataFrame(y)                         # Atualiza 'y' para um dataframe.\n",
    "y.rename(columns={0:\"Grupo\"}, inplace=True) # Altera o nome da única coluna de 'y'.\n",
    "y.head()                                    # Exibe as cinco primeiras linhas de 'y'."
   ]
  },
  {
   "cell_type": "code",
   "execution_count": 8,
   "metadata": {},
   "outputs": [
    {
     "data": {
      "text/plain": [
       "<matplotlib.axes._subplots.AxesSubplot at 0x29b22bc40c8>"
      ]
     },
     "execution_count": 8,
     "metadata": {},
     "output_type": "execute_result"
    },
    {
     "data": {
      "image/png": "[encoded data removed]",
      "text/plain": [
       "<Figure size 432x288 with 1 Axes>"
      ]
     },
     "metadata": {},
     "output_type": "display_data"
    }
   ],
   "source": [
    "# Separando os grupos por cor, plota os pontos.\n",
    "sns.scatterplot(X[\"Abscissas\"], X[\"Ordenadas\"], hue=y[\"Grupo\"])"
   ]
  },
  {
   "cell_type": "markdown",
   "metadata": {},
   "source": [
    "Aqui também podemos verificar visualmente que a separação linear é possível e, portanto, podemos esperar que nosso *perceptron* chegue a um ponto que não mais erre (i.e., encontre uma reta que sozinha separe corretamente os dois grupos)."
   ]
  },
  {
   "cell_type": "markdown",
   "metadata": {},
   "source": [
    "### Modelo"
   ]
  },
  {
   "cell_type": "markdown",
   "metadata": {},
   "source": [
    "Tudo pronto, agora vamos criar e treinar nosso *perceptron*."
   ]
  },
  {
   "cell_type": "code",
   "execution_count": 9,
   "metadata": {},
   "outputs": [],
   "source": [
    "from sklearn.model_selection import train_test_split # Função que usaremos para separar base de teste e de treino.\n",
    "from sklearn.linear_model import Perceptron          # Modelo de classificação e regressão perceptron.\n",
    "from sklearn.metrics import accuracy_score           # Função que usaremos para mensurar a precisão do modelo."
   ]
  },
  {
   "cell_type": "markdown",
   "metadata": {},
   "source": [
    "A partir de agora não temos nada muito novo se você já implementou outros modelos, vamos então dividir nosso *dataset* em 70% treino e 30% teste."
   ]
  },
  {
   "cell_type": "code",
   "execution_count": 10,
   "metadata": {},
   "outputs": [],
   "source": [
    "X_treino, X_teste, y_treino, y_teste = train_test_split(X, y, test_size=0.3, random_state=2) # Separa a base de treino e de teste."
   ]
  },
  {
   "cell_type": "markdown",
   "metadata": {},
   "source": [
    "Para o *perceptron* em si não nos preocuparemos em alterar e explicar os parâmetros, afinal a [documentação](https://scikit-learn.org/stable/modules/generated/sklearn.linear_model.Perceptron.html) é mais do que suficiente, de qualquer forma, mais adiante levantaremos alguns pontos pertinentes."
   ]
  },
  {
   "cell_type": "code",
   "execution_count": 11,
   "metadata": {},
   "outputs": [
    {
     "name": "stdout",
     "output_type": "stream",
     "text": [
      "Porcentagem de acertos: 100.00%\n"
     ]
    }
   ],
   "source": [
    "perceptron = Perceptron(random_state=2)     # Inicializa o modelo.\n",
    "perceptron.fit(X_treino, y_treino[\"Grupo\"]) # Treina o modelo: com base nas coordenadas dos pontos conhecidos, separa-os em Grupo 0 ou Grupo 1.\n",
    "y_previsto = perceptron.predict(X_teste)    # Realiza a previsão: sem acesso a quais grupos pertencem os pontos, classifica-os em Grupo 0 ou Grupo 1.\n",
    "\n",
    "print(\"Porcentagem de acertos:\", \"{0:.2f}%\".format(accuracy_score(y_teste, y_previsto)*100)) # Imprime a porcentagem de acertos do modelo."
   ]
  },
  {
   "cell_type": "markdown",
   "metadata": {},
   "source": [
    "Tal como haviamos comentado, a previsão perfeita dos dados se deve a dois fatores: uma base de treino suficientemente grande e, sumariamente, existir a possibilidade de separação linear dos dados.\n",
    "\n",
    "***\n",
    "**Observação:** o *bias* e os pesos são inicializados automaticamente quando utilizamos o modelo diretamente dessa biblioteca, não sendo necessário nenhum procedimento extra (e.g. definir um \"*input* zero\" para o *bias* ser determinado).\n",
    "***"
   ]
  },
  {
   "cell_type": "markdown",
   "metadata": {},
   "source": [
    "#### Adendo"
   ]
  },
  {
   "cell_type": "markdown",
   "metadata": {},
   "source": [
    "Uma construção interessante, principalmente no caso bidimensional, é exibir a *decision boundary* em um gráfico. Existem algumas formas de se fazer isso e, em virtude da facilidade e eficácia, utilizaremos a biblioteca [MLxtend](http://rasbt.github.io/mlxtend/) — *Machine Learning Extensions*. Talvez seja necessário instalar o pacote a ela referente, para isso, utilize um terminal ou, se desejar, execute `%pip install mlxtend` na célula abaixo (`%pip install` é uma função mágica utilizada para instalar pacotes na instância atual do *kernel*)."
   ]
  },
  {
   "cell_type": "code",
   "execution_count": 12,
   "metadata": {},
   "outputs": [],
   "source": [
    "# %pip install mlxtend"
   ]
  },
  {
   "cell_type": "markdown",
   "metadata": {},
   "source": [
    "Caso não deseje pacotes adicionais, existem [alternativas](https://stats.stackexchange.com/questions/71335/decision-boundary-plot-for-a-perceptron) um pouco mais trabalhosas, mas que demandam somente as \"bibliotecas fundamentais\". Continuando, importaremos a função `plot_decision_regions()` para visualizar a fronteira de decisão:"
   ]
  },
  {
   "cell_type": "code",
   "execution_count": 13,
   "metadata": {},
   "outputs": [],
   "source": [
    "from mlxtend.plotting import plot_decision_regions"
   ]
  },
  {
   "cell_type": "markdown",
   "metadata": {},
   "source": [
    "Agora, basta indicar: \n",
    "\n",
    "* `X` (*features*) e `y` (*targets*) como *ndarrays*;\n",
    "* o modelo ao qual aplicamos os métodos `fit()` e `predict()`, através do parâmetro `clf`.\n",
    "\n",
    "Veja:"
   ]
  },
  {
   "cell_type": "code",
   "execution_count": 14,
   "metadata": {},
   "outputs": [
    {
     "data": {
      "text/plain": [
       "<matplotlib.axes._subplots.AxesSubplot at 0x29b22e9d948>"
      ]
     },
     "execution_count": 14,
     "metadata": {},
     "output_type": "execute_result"
    },
    {
     "data": {
      "image/png": "[encoded data removed]",
      "text/plain": [
       "<Figure size 432x288 with 1 Axes>"
      ]
     },
     "metadata": {},
     "output_type": "display_data"
    }
   ],
   "source": [
    "plot_decision_regions(np.array(X), np.array(y[\"Grupo\"]), clf=perceptron)"
   ]
  },
  {
   "cell_type": "markdown",
   "metadata": {},
   "source": [
    "Por último, verifique a [documentação](http://rasbt.github.io/mlxtend/api_subpackages/mlxtend.plotting/#plot_decision_regions) tanto para aprimorar a visualização do gráfico, quanto para adequar a função as suas necessidades. Para fins estéticos, há abaixo uma customização do plot anterior."
   ]
  },
  {
   "cell_type": "code",
   "execution_count": 15,
   "metadata": {},
   "outputs": [
    {
     "data": {
      "text/plain": [
       "Text(0, 0.5, 'Ordenadas')"
      ]
     },
     "execution_count": 15,
     "metadata": {},
     "output_type": "execute_result"
    },
    {
     "data": {
      "image/png": "[encoded data removed]",
      "text/plain": [
       "<Figure size 432x288 with 1 Axes>"
      ]
     },
     "metadata": {},
     "output_type": "display_data"
    }
   ],
   "source": [
    "# Define dois dicionários com as propriedades dos marcadores e das regiões, respectivamente.\n",
    "markers = dict(s=60, edgecolor=None, alpha=0.7) # Marcadores de tamanho 60, sem contorno e com transparência.\n",
    "regions = dict(alpha=0.2)                       # Regiões delimitadas pela fronteira de decisão com 20% de opacidade.\n",
    "\n",
    "# As cores são passadas como uma única string e separadas por vírgulas.\n",
    "plot_decision_regions(np.array(X), np.array(y[\"Grupo\"]), clf=perceptron,\n",
    "                      markers=\"o\", colors=\"steelblue,chocolate\", \n",
    "                      scatter_kwargs = markers, contourf_kwargs = regions)\n",
    "\n",
    "plt.legend()            # Exibe a legenda no canto superior direito (padrão).\n",
    "plt.xlabel(\"Abscissas\") # Legenda do eixo x.\n",
    "plt.ylabel(\"Ordenadas\") # Legenda do eixo y."
   ]
  },
  {
   "cell_type": "markdown",
   "metadata": {},
   "source": [
    "## Uma atualização importante"
   ]
  },
  {
   "cell_type": "markdown",
   "metadata": {},
   "source": [
    "Embora não tenhamos explicitado isso, o modelo do *perceptron* que trabalhamos até agora é bem semelhante ao que fora proposto por Frank Rosenblatt, em 1962. No livro *Principles of Neurodynamics*, o psicólogo estadunidense introduziu o que é considerado um aprimoramento do hoje chamado [*MCP Neuron*](https://www.cs.cmu.edu/~./epxing/Class/10715/reading/McCulloch.and.Pitts.pdf) (*McCulloch-Pitts Neuron*) — um modelo que, assim como o *perceptron*, buscava imitar de forma simplista o funcionamento de um neurônio. Contudo, décadas após, passamos por mudanças significativas e, atualmente, o algoritmo se encontra ainda mais eficiente. Para trabalhar a diferença crucial, vamos retomar a função limiar que o *perceptron* original possui:\n",
    "\n",
    "$f(u) = \\begin{cases} 1,\\ \\ \\ \\ se\\ \\ u > T \\\\\n",
    "                      0,\\ \\ \\ \\ se\\ \\ u \\leq T \\end{cases};\\ \\forall u \\in \\mathbb{R}$\n",
    "\n",
    "Embora não tenhamos citado anteriormente, levando em conta o algoritmo, temos que essa função é uma **função de ativação** e que o valor por ela recebido (a soma do *bias* com a soma ponderada) é denominado **ativação**. Dessa forma, quando um *perceptron* retorna 1, dizemos que ele foi ativado; do contrário, não. Sintetizando, enxergamos dois casos possíveis:\n",
    "\n",
    "> **1.** A ativação supera o limiar zero, portanto, o *perceptron* é ativado.\n",
    "\n",
    "> **2.** A ativação fica abaixo do (ou é igual ao) limiar zero, portanto, o *perceptron* não é ativado.\n",
    "\n",
    "Mas agora, conhecendo a nomenclatura adequada, podemos dizer que o aprimoramento reside, justamente, na função de ativação: ao invés de utilizarmos uma função limiar (como proposto no modelo de 1962), utilizamos qualquer função que retorne um valor desejado — por exemplo, um número pertencente ao intervalo $]0,1[$. Vejamos isso graficamente:\n",
    "\n",
    "<img align=\"left\" width=\"600\" src=\"https://i.ibb.co/wyKk6rK/Gr-ficos2.png\">"
   ]
  },
  {
   "cell_type": "markdown",
   "metadata": {},
   "source": [
    "**f** é nossa função limiar com saída binária, enquanto **g** é a função sigmóide. De imediato, perceba que a mudança da função acarretará uma mudança das possíveis saídas, isto é, não estamos mais limitados ao caso simplista \"**0** ou **1**\", na verdade, para essa nova função temos infinitos valores entre os dois números. Felizmente, a Wikipedia compila uma [tabela de funções de ativação](https://en.wikipedia.org/wiki/Activation_function#Comparison_of_activation_functions), com formulação algébrica, visualização gráfica e intervalos contemplados, mas por hora, é bom sabermos que sigmóide, arco tangente e ReLU costumam ser as mais famosas.\n",
    "\n",
    "***\n",
    "**Observações:** dado que algumas dúvidas quanto à nomenclatura podem começar a surgir é, de fato, bom ressaltar certos conceitos.\n",
    "\n",
    "* O termo \"*perceptron*\", quando utilizado isoladamente, costuma se referir ao modelo original, pois em geral explicitamos a função de ativação quando ela é diferente da limiar.\n",
    "\n",
    "* Usualmente, dizemos que as redes neurais são compostas por *neurons* (neurônios, em português) ou *nodes*. Isso não implica estarmos nos referindo ao modelo original do *neuron* (*MCP Neuron*), na verdade, as \"células\" que compõem as redes neurais artificiais são até mesmo mais sofisticadas do que os *perceptrons*, na enorme maioria dos casos.\n",
    "***\n",
    "![Alt text](https://gistcdn.githack.com/Gbecdox/178a8d0cd024d5e52d63e3c11a2cdfd7/raw/3f32b8a31509ec3b2b20ebb202113b2da0e9c751/FooterGM.svg)\n",
    "***"
   ]
  }
 ],
 "metadata": {
  "kernelspec": {
   "display_name": "Python 3",
   "language": "python",
   "name": "python3"
  },
  "language_info": {
   "codemirror_mode": {
    "name": "ipython",
    "version": 3
   },
   "file_extension": ".py",
   "mimetype": "text/x-python",
   "name": "python",
   "nbconvert_exporter": "python",
   "pygments_lexer": "ipython3",
   "version": "3.7.6"
  }
 },
 "nbformat": 4,
 "nbformat_minor": 4
}
